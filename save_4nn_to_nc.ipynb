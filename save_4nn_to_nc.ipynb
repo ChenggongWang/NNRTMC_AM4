{
 "cells": [
  {
   "cell_type": "code",
   "execution_count": 1,
   "id": "adf1c818-1c2d-4b0e-9a68-f0b4c67d5461",
   "metadata": {
    "execution": {
     "iopub.execute_input": "2023-03-04T16:41:28.224176Z",
     "iopub.status.busy": "2023-03-04T16:41:28.224065Z",
     "iopub.status.idle": "2023-03-04T16:41:29.723545Z",
     "shell.execute_reply": "2023-03-04T16:41:29.723052Z",
     "shell.execute_reply.started": "2023-03-04T16:41:28.224141Z"
    },
    "tags": []
   },
   "outputs": [],
   "source": [
    "import numpy as np\n",
    "import torch\n",
    "from torch import nn  \n",
    "import time \n",
    "import os  \n",
    "import xarray as xr\n",
    "import subprocess\n",
    "import matplotlib.pyplot as plt\n",
    "from matplotlib import colors\n",
    "import cartopy.crs as ccrs"
   ]
  },
  {
   "cell_type": "code",
   "execution_count": 2,
   "id": "6819283e-491c-4f5b-8358-067c9fc7ec06",
   "metadata": {
    "execution": {
     "iopub.execute_input": "2023-03-04T16:41:29.724740Z",
     "iopub.status.busy": "2023-03-04T16:41:29.724627Z",
     "iopub.status.idle": "2023-03-04T16:41:29.904892Z",
     "shell.execute_reply": "2023-03-04T16:41:29.904435Z",
     "shell.execute_reply.started": "2023-03-04T16:41:29.724725Z"
    },
    "tags": []
   },
   "outputs": [],
   "source": [
    "## import self defined functions\n",
    "from sys import path \n",
    "# insert at 1, 0 is the script path (or '' in REPL)\n",
    "path.insert(1, '/tigress/cw55/local/python_lib')\n",
    "from cg_funcs import global_mean_xarray\n",
    "root = '/tigress/cw55/work/2022_radi_nn/NN_AM4'\n",
    "path.insert(1,  root+'/work')\n",
    "\n",
    "import lw_csaf_Li5Relu_EY.train_script01 as lwcsafey \n",
    "import lw_af_Li5Relu_EY.train_script01 as lwafey \n",
    "import sw_csaf_Li5Relu_EY.train_script01 as swcsafey \n",
    "import sw_af_Li5Relu_EY.train_script01 as swafey "
   ]
  },
  {
   "cell_type": "code",
   "execution_count": 3,
   "id": "69d35949-0d19-4f2e-8b6a-0d76997676a7",
   "metadata": {
    "execution": {
     "iopub.execute_input": "2023-03-04T16:41:29.905754Z",
     "iopub.status.busy": "2023-03-04T16:41:29.905633Z",
     "iopub.status.idle": "2023-03-04T16:41:29.910074Z",
     "shell.execute_reply": "2023-03-04T16:41:29.909736Z",
     "shell.execute_reply.started": "2023-03-04T16:41:29.905739Z"
    },
    "tags": []
   },
   "outputs": [],
   "source": [
    "from get_AM4_data_lw import get_AM4_data_lw\n",
    "from get_AM4_data_sw import get_AM4_data_sw\n",
    "######################################################\n",
    "# common functions to split the training and test data\n",
    "from NNRTMC_lw_utils import  split_train_test_sample, \\\n",
    "draw_batches, data_std_normalization, print_key_results, return_exp_dir\n",
    "    \n",
    "from diag_utils import batch_index_sta_end, pred_NN_batch,\\\n",
    "create_6tiles_lw,regrid_6tile2latlon"
   ]
  },
  {
   "cell_type": "code",
   "execution_count": 4,
   "id": "c499ebeb-a7a2-4d5e-be47-140e7e6784e5",
   "metadata": {
    "execution": {
     "iopub.execute_input": "2023-03-04T16:41:29.911095Z",
     "iopub.status.busy": "2023-03-04T16:41:29.910994Z",
     "iopub.status.idle": "2023-03-04T16:41:30.044788Z",
     "shell.execute_reply": "2023-03-04T16:41:30.044358Z",
     "shell.execute_reply.started": "2023-03-04T16:41:29.911081Z"
    },
    "tags": []
   },
   "outputs": [],
   "source": [
    "if __name__ == '__main__': \n",
    "    torch.cuda.set_device(0) # select gpu_id, default 0 means the first GPU\n",
    "    device = f'cuda:{torch.cuda.current_device()}'\n",
    "    ######################################################\n",
    "    # set exp name and runs\n",
    "    Exp_name = [ \n",
    "        'lw_csaf_Li5Relu_EY', \n",
    "        'lw_af_Li5Relu_EY'  ,\n",
    "        'sw_csaf_Li5Relu_EY', \n",
    "        'sw_af_Li5Relu_EY'  ,\n",
    "    ]\n",
    "    Exp_name_model_dict = { \n",
    "        'lw_csaf_Li5Relu_EY': lwcsafey, \n",
    "        'lw_af_Li5Relu_EY'  : lwafey,\n",
    "        'sw_csaf_Li5Relu_EY': swcsafey, \n",
    "        'sw_af_Li5Relu_EY'  : swafey,\n",
    "    }\n",
    "    sky_cond = { \n",
    "        'lw_csaf_Li5Relu_EY': 'csaf', \n",
    "        'lw_af_Li5Relu_EY'  : 'af',\n",
    "        'sw_csaf_Li5Relu_EY': 'csaf', \n",
    "        'sw_af_Li5Relu_EY'  : 'af',\n",
    "    }\n",
    "    work_dir = root+'/work/' \n",
    "    # file list AM4 runs \n",
    "    out_filelist = [f'/scratch/gpfs/cw55/NNRTMC_data/AM4_v2/20000101.fluxes.tile{_}.nc' for _ in range(1,7)]\n",
    "    inp_filelist = [f'/scratch/gpfs/cw55/NNRTMC_data/AM4_v2/20000101.new_offline_input.tile{_}.nc' for _ in range(1,7)]\n",
    "    # use one file\n",
    "    out_filelist = [f'/scratch/gpfs/cw55/NNRTMC_data/AM4_v2/20000101.fluxes.tile{_}.nc' for _ in range(1,2)]\n",
    "    inp_filelist = [f'/scratch/gpfs/cw55/NNRTMC_data/AM4_v2/20000101.new_offline_input.tile{_}.nc' for _ in range(1,2)]\n",
    "\n",
    "    hybrid_p_sigma_para = xr.open_dataset('/tigress/cw55/data/NNRTMC_dataset/AM4_pk_bk_202207.nc')\n",
    "    A_k = hybrid_p_sigma_para.ak.values[None,:]\n",
    "    B_k = hybrid_p_sigma_para.bk.values[None,:] "
   ]
  },
  {
   "cell_type": "code",
   "execution_count": 5,
   "id": "631ab6bb-4a35-40d9-8a06-e88e4d476192",
   "metadata": {
    "execution": {
     "iopub.execute_input": "2023-03-04T16:41:30.046169Z",
     "iopub.status.busy": "2023-03-04T16:41:30.046058Z",
     "iopub.status.idle": "2023-03-04T16:41:30.050136Z",
     "shell.execute_reply": "2023-03-04T16:41:30.049779Z",
     "shell.execute_reply.started": "2023-03-04T16:41:30.046154Z"
    },
    "tags": []
   },
   "outputs": [],
   "source": [
    "plt.rcParams['font.size'] = '6'"
   ]
  },
  {
   "cell_type": "code",
   "execution_count": 6,
   "id": "6997962b-beb1-4cf1-ac10-f2f21df3fcf2",
   "metadata": {
    "execution": {
     "iopub.execute_input": "2023-03-04T16:41:30.050681Z",
     "iopub.status.busy": "2023-03-04T16:41:30.050589Z",
     "iopub.status.idle": "2023-03-04T16:41:30.053034Z",
     "shell.execute_reply": "2023-03-04T16:41:30.052593Z",
     "shell.execute_reply.started": "2023-03-04T16:41:30.050668Z"
    },
    "tags": []
   },
   "outputs": [],
   "source": [
    "month_sel = None\n",
    "day_sel = [15,18,21,24,27]\n",
    "month_sel = [1]\n",
    "day_sel = [1]"
   ]
  },
  {
   "cell_type": "code",
   "execution_count": 7,
   "id": "08b61674-05b0-4811-88b0-fca671981ecf",
   "metadata": {
    "execution": {
     "iopub.execute_input": "2023-03-04T16:41:30.053510Z",
     "iopub.status.busy": "2023-03-04T16:41:30.053421Z",
     "iopub.status.idle": "2023-03-04T16:41:30.059814Z",
     "shell.execute_reply": "2023-03-04T16:41:30.059445Z",
     "shell.execute_reply.started": "2023-03-04T16:41:30.053498Z"
    },
    "tags": []
   },
   "outputs": [],
   "source": [
    "\n",
    "# a specific implement for Li5ReluBN\n",
    "# (Li BN ReLU ) *4 Li\n",
    "def regroup_linear_BN_para(ori_NN_parameters, nor_para):\n",
    "    new_NN_parameters = []\n",
    "    para_ind = 0\n",
    "    for i in range(4):\n",
    "        # accout for input_nor\n",
    "        weight = ori_NN_parameters[para_ind]\n",
    "        bias   = ori_NN_parameters[para_ind+1]\n",
    "        if para_ind == 0:\n",
    "            bias   = bias - weight@(nor_para['input_scale']*nor_para['input_offset'])\n",
    "            weight = nor_para['input_scale']*weight\n",
    "        # Batch_nor\n",
    "        tmp_BN = ori_NN_parameters[para_ind+2]/np.sqrt(ori_NN_parameters[para_ind+5] + 1e-5)\n",
    "        new_NN_parameters.append(tmp_BN[:,None]*weight)\n",
    "        new_NN_parameters.append((bias-ori_NN_parameters[para_ind+4])*tmp_BN+ori_NN_parameters[para_ind+3])\n",
    "        para_ind = para_ind+7\n",
    "    \n",
    "    weight = ori_NN_parameters[para_ind]\n",
    "    bias   = ori_NN_parameters[para_ind+1]\n",
    "    weight = weight/nor_para['output_scale'][:,None]\n",
    "    bias   = bias/nor_para['output_scale']+nor_para['output_offset']\n",
    "    new_NN_parameters.append(weight)\n",
    "    new_NN_parameters.append(bias)\n",
    "    return new_NN_parameters\n",
    "\n",
    "def save_fnn_parameters(a_list_of_parameters):\n",
    "    # save FNN parameters\n",
    "    # num_layer = len(a_list_of_parameters)/2 \n",
    "    if len(a_list_of_parameters)%2 == 0:\n",
    "        num_layer = len(a_list_of_parameters)/2 \n",
    "    else:\n",
    "        raise Exception('num_layer must be integer')\n",
    "    ds_nn_save = xr.Dataset()\n",
    "    ds_nn_save['LN'] = int(len(a_list_of_parameters)/2)\n",
    "    for i in range(ds_nn_save['LN'].values): \n",
    "        ds_nn_save[f'W{i+1}'] = ((f'x{i+1}',f'y{i+1}'),a_list_of_parameters[i*2])\n",
    "        ds_nn_save[f'B{i+1}'] = ((f'x{i+1}'),a_list_of_parameters[i*2+1])\n",
    "        ds_nn_save[f'size{i+1}0'] = a_list_of_parameters[i*2].shape[0]\n",
    "        ds_nn_save[f'size{i+1}1'] = a_list_of_parameters[i*2].shape[1]\n",
    "    return ds_nn_save"
   ]
  },
  {
   "cell_type": "code",
   "execution_count": 8,
   "id": "eb547042-c3a6-4dea-a4d5-b0a6702daccb",
   "metadata": {
    "execution": {
     "iopub.execute_input": "2023-03-04T16:41:30.060364Z",
     "iopub.status.busy": "2023-03-04T16:41:30.060272Z",
     "iopub.status.idle": "2023-03-04T16:41:30.064268Z",
     "shell.execute_reply": "2023-03-04T16:41:30.063857Z",
     "shell.execute_reply.started": "2023-03-04T16:41:30.060351Z"
    },
    "tags": []
   },
   "outputs": [],
   "source": [
    "def Rad_NN_activation_function(x):\n",
    "    # ReLU:\n",
    "    if x>0: return x\n",
    "    else: return  np.float32(0)\n",
    "# a specific implement for Li5ReluBN\n",
    "def Rad_NN_pred(NN_parameters, input_X):\n",
    "    # first 4 Linear>Relu>BN\n",
    "    intermediate = np.empty(256)\n",
    "    para_ind = 0\n",
    "    for i in range(4):\n",
    "        # y = x*w+b \n",
    "        if i == 0:  \n",
    "            intermediate = NN_parameters[para_ind] @ input_X.T + NN_parameters[para_ind+1][:,None]\n",
    "        else:\n",
    "            intermediate = NN_parameters[para_ind] @ intermediate + NN_parameters[para_ind+1][:,None]\n",
    "        # y = sigma(y) apply activation function for all nodes\n",
    "        intermediate = np.vectorize(Rad_NN_activation_function)(intermediate)  \n",
    "        # move to next set of para (w,b) from NN \n",
    "        para_ind = para_ind + 2\n",
    "    output_Y = NN_parameters[para_ind] @ intermediate + NN_parameters[para_ind+1][:,None] # y = x*w+b\n",
    "    return output_Y.T"
   ]
  },
  {
   "cell_type": "code",
   "execution_count": 9,
   "id": "cb3579d2-c136-4683-982e-f75413b89266",
   "metadata": {
    "execution": {
     "iopub.execute_input": "2023-03-04T16:41:30.064879Z",
     "iopub.status.busy": "2023-03-04T16:41:30.064787Z",
     "iopub.status.idle": "2023-03-04T16:41:34.079005Z",
     "shell.execute_reply": "2023-03-04T16:41:34.078612Z",
     "shell.execute_reply.started": "2023-03-04T16:41:30.064866Z"
    },
    "tags": []
   },
   "outputs": [
    {
     "name": "stdout",
     "output_type": "stream",
     "text": [
      "lw_csaf_Li5Relu_EY\n",
      "load: /tigress/cw55/work/2022_radi_nn/NN_AM4/work/lw_csaf_Li5Relu_EY/restart.04.pth\n",
      "Data files:\n",
      "['/scratch/gpfs/cw55/NNRTMC_data/AM4_v2/20000101.fluxes.tile1.nc'] ['/scratch/gpfs/cw55/NNRTMC_data/AM4_v2/20000101.new_offline_input.tile1.nc']\n",
      "Data selection:\n",
      "    Month: [1] \n",
      "    Day: [1] \n",
      "Reading data... 0 Done.\n",
      "Total data size: 73728\n",
      "(73728, 102) (73728, 36)\n",
      "[4.6300187e-07 4.4846544e-07 3.1752694e-07 4.0320899e-07 1.2767708e-06\n",
      " 8.6028223e-07 6.5514820e-07 1.1562497e-06 1.5120446e-06 3.6600886e-06\n",
      " 7.1314789e-06 6.5557260e-06 8.6845794e-06 1.1165456e-05 2.5080274e-06\n",
      " 1.2070267e-06 1.9513373e-06 1.0148282e-06 3.7516327e-06 5.7518655e-06\n",
      " 7.4827262e-06 9.0632466e-06 8.6924929e-06 7.9995316e-06 7.9817864e-06\n",
      " 9.8964338e-06 2.2988123e-05 2.8059429e-05 1.8143368e-05 1.9735104e-05\n",
      " 2.1709140e-05 1.6707705e-05 4.7031412e-05 8.1867256e-06 3.7826059e-05\n",
      " 4.2433840e-05]\n",
      "lw_af_Li5Relu_EY\n",
      "load: /tigress/cw55/work/2022_radi_nn/NN_AM4/work/lw_af_Li5Relu_EY/restart.04.pth\n",
      "Data files:\n",
      "['/scratch/gpfs/cw55/NNRTMC_data/AM4_v2/20000101.fluxes.tile1.nc'] ['/scratch/gpfs/cw55/NNRTMC_data/AM4_v2/20000101.new_offline_input.tile1.nc']\n",
      "Data selection:\n",
      "    Month: [1] \n",
      "    Day: [1] \n",
      "Reading data... 0 Done.\n",
      "Total data size: 73728\n",
      "(73728, 432) (73728, 36)\n",
      "[3.5836138e-07 3.6768591e-07 2.9549034e-07 8.1819377e-07 8.2266507e-07\n",
      " 5.6056433e-06 4.7932585e-06 2.2316974e-06 4.3411683e-06 8.2970419e-06\n",
      " 2.2790573e-05 5.8773912e-06 8.7257358e-06 4.4588305e-06 9.5546629e-06\n",
      " 7.5948933e-06 3.4981535e-06 3.5556502e-06 3.1348261e-06 2.1324222e-06\n",
      " 2.2431680e-06 3.9828456e-06 2.5743441e-06 5.1047127e-06 4.2209317e-06\n",
      " 2.5769780e-06 2.6695352e-06 3.2480598e-06 6.6033508e-06 3.6914549e-05\n",
      " 2.4429866e-05 3.6552745e-05 1.9120922e-05 2.8435239e-05 2.6453312e-05\n",
      " 4.7936272e-05]\n",
      "sw_csaf_Li5Relu_EY\n",
      "load: /tigress/cw55/work/2022_radi_nn/NN_AM4/work/sw_csaf_Li5Relu_EY/restart.04.pth\n",
      "Data files:\n",
      "['/scratch/gpfs/cw55/NNRTMC_data/AM4_v2/20000101.fluxes.tile1.nc'] ['/scratch/gpfs/cw55/NNRTMC_data/AM4_v2/20000101.new_offline_input.tile1.nc']\n",
      "Data selection:\n",
      "    Month: [1] \n",
      "    Day: [1] \n",
      "Reading data... 0 Done.\n",
      "Total data size: 73728\n",
      "(73728, 108) (73728, 36)\n",
      "[4.8243783e-05 4.4130440e-05 6.9007816e-05 6.9008049e-05 6.2401443e-05\n",
      " 7.3831325e-05 7.9886886e-05 8.5940606e-05 8.1787141e-05 7.8941106e-05\n",
      " 7.5235890e-05 7.5106313e-05 6.5990775e-05 7.2538896e-05 7.8568235e-05\n",
      " 9.2138158e-05 8.0765451e-05 7.5755743e-05 9.1014976e-05 9.2945324e-05\n",
      " 8.3012732e-05 9.0235306e-05 7.6065233e-05 6.9448797e-05 5.7269830e-05\n",
      " 6.2846921e-05 3.7952595e-05 4.0472853e-05 4.7037025e-05 5.6709527e-05\n",
      " 5.9152080e-05 6.5919885e-05 6.3439562e-05 5.8643353e-05 6.1782906e-05\n",
      " 6.8377463e-05]\n",
      "sw_af_Li5Relu_EY\n",
      "load: /tigress/cw55/work/2022_radi_nn/NN_AM4/work/sw_af_Li5Relu_EY/restart.04.pth\n",
      "Data files:\n",
      "['/scratch/gpfs/cw55/NNRTMC_data/AM4_v2/20000101.fluxes.tile1.nc'] ['/scratch/gpfs/cw55/NNRTMC_data/AM4_v2/20000101.new_offline_input.tile1.nc']\n",
      "Data selection:\n",
      "    Month: [1] \n",
      "    Day: [1] \n",
      "Reading data... 0 Done.\n",
      "Total data size: 73728\n",
      "(73728, 438) (73728, 36)\n",
      "[2.11054830e-05 2.94375641e-05 2.65406525e-05 2.00723971e-05\n",
      " 1.26206523e-05 1.36967974e-05 1.51882205e-05 1.69152063e-05\n",
      " 1.99743045e-05 2.06600089e-05 2.09247610e-05 1.89499297e-05\n",
      " 2.06205095e-05 2.05106317e-05 2.54566294e-05 2.08849888e-05\n",
      " 1.62909200e-05 1.61408971e-05 1.51380982e-05 1.83757147e-05\n",
      " 1.79283725e-05 1.59869760e-05 1.51472332e-05 1.30553108e-05\n",
      " 1.43241032e-05 1.59628926e-05 1.77170623e-05 1.54825848e-05\n",
      " 1.85310710e-05 1.75957321e-05 2.11514289e-05 2.44111161e-05\n",
      " 2.68321892e-05 2.41966281e-05 2.59254066e-05 2.84711259e-05]\n",
      "CPU times: user 4.36 s, sys: 949 ms, total: 5.31 s\n",
      "Wall time: 4.01 s\n"
     ]
    }
   ],
   "source": [
    "%%time\n",
    "predi = {}\n",
    "error = {}\n",
    "eng_err = {}\n",
    "NN_model = {}\n",
    "ds_regrid = {}\n",
    "ds_save = {}\n",
    "for mo in Exp_name:\n",
    "    print(mo)\n",
    "    ######################################################\n",
    "    # load restart file\n",
    "    run_num, exp_dir = return_exp_dir(work_dir, mo, create_dir=False)\n",
    "    PATH_last =  exp_dir+f'/restart.{run_num-1:02d}.pth'\n",
    "    restart_data = torch.load(PATH_last)  # load exist results and restart training\n",
    "    print(f'load: {PATH_last}')\n",
    "    # read training dataset, nor_para, model parameteres\n",
    "    nor_para = restart_data['nor_para']\n",
    "    model_state_dict = restart_data['model_state_dict']\n",
    "    # read data\n",
    "    if 'lw' in mo:\n",
    "        input_array_ori, output_array_ori, ds_coords = \\\n",
    "        get_AM4_data_lw(out_filelist, inp_filelist, condition=sky_cond[mo], \n",
    "                        month_sel = month_sel, day_sel = day_sel, return_coords=True) \n",
    "    else:\n",
    "        input_array_ori, output_array_ori, ds_coords = \\\n",
    "        get_AM4_data_sw(out_filelist, inp_filelist, condition=sky_cond[mo], \n",
    "                        month_sel = month_sel, day_sel = day_sel, return_coords=True) \n",
    "        \n",
    "    # initialize model \n",
    "    NN_model[mo] = Exp_name_model_dict[mo].NNRTMC_NN(device, nor_para, A_k, B_k, input_array_ori.shape[1],model_state_dict)  \n",
    "    \n",
    "    # normalize data via saved nor_para in restart file\n",
    "    nor_para, input_array, output_array   = data_std_normalization(input_array_ori, output_array_ori, nor_para)\n",
    "    \n",
    "    # try NN on test dataset  \n",
    "    predi[mo], eng_err[mo] = pred_NN_batch(input_array, output_array, NN_model[mo], nor_para, device)\n",
    "    error[mo] = predi[mo] - output_array_ori\n",
    "    predi[mo][:,3:] = predi[mo][:,3:]*86400 # HR K/s >> K/day\n",
    "    error[mo][:,3:] = error[mo][:,3:]*86400 # HR K/s >> K/day\n",
    "    # process NN dict and save parameters\n",
    "    a_list_of_parameters = [model_state_dict[_].numpy() for _ in model_state_dict.keys()]\n",
    "    a_list_of_parameters = regroup_linear_BN_para(a_list_of_parameters, nor_para)\n",
    "    ds_save[mo] = save_fnn_parameters(a_list_of_parameters)\n",
    "    ds_save[mo].attrs['info'] = f'FNN parameters for RadNN AM4, 20230304'\n",
    "    ds_save[mo].attrs['model'] = mo\n",
    "    ds_save[mo].to_netcdf(f'RadNN_para_ReLU_L5W256.{mo}.nc')\n",
    "    \n",
    "    \n",
    "    # check results\n",
    "    print(input_array.shape,output_array.shape)\n",
    "    # select a subset of input\n",
    "    input_X = input_array[:300,:]\n",
    "    output_Y = output_array[:300,:] \n",
    "    input_X_ori = input_array_ori[:300,:]\n",
    "    # results from pytorch\n",
    "    NN_pred1 = NN_model[mo].predict(torch.tensor(input_X).to(device)).cpu().numpy()\n",
    "    NN_pred1 = NN_pred1/nor_para['output_scale']+nor_para['output_offset']\n",
    "    # results from prototype function \n",
    "    NN_pred2 = Rad_NN_pred(a_list_of_parameters, input_X_ori)\n",
    "    r_err = abs(NN_pred1 - NN_pred2).mean(axis=0)/abs(NN_pred1 + NN_pred2).mean(axis=0)\n",
    "    print(r_err)\n",
    "    # break"
   ]
  },
  {
   "cell_type": "code",
   "execution_count": null,
   "id": "d67952f0-2d93-4c58-8ab0-e907a2d6c285",
   "metadata": {},
   "outputs": [],
   "source": []
  }
 ],
 "metadata": {
  "kernelspec": {
   "display_name": "pytorch",
   "language": "python",
   "name": "pytorch"
  },
  "language_info": {
   "codemirror_mode": {
    "name": "ipython",
    "version": 3
   },
   "file_extension": ".py",
   "mimetype": "text/x-python",
   "name": "python",
   "nbconvert_exporter": "python",
   "pygments_lexer": "ipython3",
   "version": "3.10.4"
  },
  "widgets": {
   "application/vnd.jupyter.widget-state+json": {
    "state": {},
    "version_major": 2,
    "version_minor": 0
   }
  }
 },
 "nbformat": 4,
 "nbformat_minor": 5
}
