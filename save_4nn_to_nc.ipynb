{
 "cells": [
  {
   "cell_type": "code",
   "execution_count": 1,
   "id": "adf1c818-1c2d-4b0e-9a68-f0b4c67d5461",
   "metadata": {
    "execution": {
     "iopub.execute_input": "2023-03-30T13:33:11.092048Z",
     "iopub.status.busy": "2023-03-30T13:33:11.091876Z",
     "iopub.status.idle": "2023-03-30T13:33:12.709000Z",
     "shell.execute_reply": "2023-03-30T13:33:12.708538Z",
     "shell.execute_reply.started": "2023-03-30T13:33:11.092008Z"
    },
    "tags": []
   },
   "outputs": [],
   "source": [
    "import numpy as np\n",
    "import torch\n",
    "from torch import nn  \n",
    "import time \n",
    "import os  \n",
    "import xarray as xr\n",
    "import subprocess\n",
    "import matplotlib.pyplot as plt\n",
    "from matplotlib import colors\n",
    "import cartopy.crs as ccrs"
   ]
  },
  {
   "cell_type": "code",
   "execution_count": 2,
   "id": "6819283e-491c-4f5b-8358-067c9fc7ec06",
   "metadata": {
    "execution": {
     "iopub.execute_input": "2023-03-30T13:33:12.710310Z",
     "iopub.status.busy": "2023-03-30T13:33:12.710149Z",
     "iopub.status.idle": "2023-03-30T13:33:12.918957Z",
     "shell.execute_reply": "2023-03-30T13:33:12.918535Z",
     "shell.execute_reply.started": "2023-03-30T13:33:12.710294Z"
    },
    "tags": []
   },
   "outputs": [],
   "source": [
    "## import self defined functions\n",
    "from sys import path \n",
    "# insert at 1, 0 is the script path (or '' in REPL)\n",
    "path.insert(1, '/tigress/cw55/local/python_lib')\n",
    "from cg_funcs import global_mean_xarray\n",
    "root = '/tigress/cw55/work/2022_radi_nn/NN_AM4'\n",
    "path.insert(1,  root+'/work')\n",
    "\n",
    "import AM4std_lw_cs_LiH4Relu_EY.train_script01  as lwcsey \n",
    "import AM4std_lw_all_LiH4Relu_EY.train_script01 as lwalley \n",
    "import AM4std_sw_cs_LiH4Relu_EY.train_script01  as swcsey \n",
    "import AM4std_sw_all_LiH4Relu_EY.train_script01 as swalley "
   ]
  },
  {
   "cell_type": "code",
   "execution_count": 3,
   "id": "69d35949-0d19-4f2e-8b6a-0d76997676a7",
   "metadata": {
    "execution": {
     "iopub.execute_input": "2023-03-30T13:33:12.919806Z",
     "iopub.status.busy": "2023-03-30T13:33:12.919652Z",
     "iopub.status.idle": "2023-03-30T13:33:12.922291Z",
     "shell.execute_reply": "2023-03-30T13:33:12.921950Z",
     "shell.execute_reply.started": "2023-03-30T13:33:12.919789Z"
    },
    "tags": []
   },
   "outputs": [],
   "source": [
    "from get_data_lw_AM4_std import get_data_lw_AM4\n",
    "from get_data_sw_AM4_std import get_data_sw_AM4\n",
    "######################################################\n",
    "# common functions to split the training and test data\n",
    "from NNRTMC_utils import  split_train_test_sample, \\\n",
    "draw_batches, data_std_normalization, data_std_normalization_sw, print_key_results, return_exp_dir"
   ]
  },
  {
   "cell_type": "code",
   "execution_count": 4,
   "id": "c499ebeb-a7a2-4d5e-be47-140e7e6784e5",
   "metadata": {
    "execution": {
     "iopub.execute_input": "2023-03-30T13:33:12.923073Z",
     "iopub.status.busy": "2023-03-30T13:33:12.922784Z",
     "iopub.status.idle": "2023-03-30T13:33:12.937288Z",
     "shell.execute_reply": "2023-03-30T13:33:12.936941Z",
     "shell.execute_reply.started": "2023-03-30T13:33:12.923055Z"
    },
    "tags": []
   },
   "outputs": [],
   "source": [
    "if __name__ == '__main__': \n",
    "    # torch.cuda.set_device(0) # select gpu_id, default 0 means the first GPU\n",
    "    # device = f'cuda:{torch.cuda.current_device()}'\n",
    "    device = 'cpu'\n",
    "    ######################################################\n",
    "    # set exp name and runs\n",
    "    Exp_name = [ \n",
    "        'AM4std_lw_cs_LiH4Relu_EY', \n",
    "        'AM4std_lw_all_LiH4Relu_EY'  ,\n",
    "        'AM4std_sw_cs_LiH4Relu_EY', \n",
    "        'AM4std_sw_all_LiH4Relu_EY'  ,\n",
    "    ]\n",
    "    Exp_name_model_dict = { \n",
    "        Exp_name[0]  : lwcsey , \n",
    "        Exp_name[1]  : lwalley ,\n",
    "        Exp_name[2]  : swcsey , \n",
    "        Exp_name[3]  : swalley ,\n",
    "    }\n",
    "    sky_cond = { \n",
    "        Exp_name[0]  : 'cs', \n",
    "        Exp_name[1]  : 'all',\n",
    "        Exp_name[2]  : 'cs', \n",
    "        Exp_name[3]  : 'all',\n",
    "    }\n",
    "    work_dir = root+'/work/' \n",
    "    ######################################################\n",
    "    # load data from AM4 runs\n",
    "    filelist = [f'/scratch/gpfs/cw55/AM4/work/FIXSST_2000s_stellarcpu_intelmpi_22_768PE/'+\n",
    "            f'HISTORY/20000101.atmos_8xdaily.tile{_}.nc' for _ in range(1,2)] \n",
    "    # input_array_ori, output_array_ori, rsdt_array_ori = \\\n",
    "    # get_data_sw_AM4(filelist, condition=sky_cond, month_sel = [1], day_sel = [1,7]) \n",
    "    \n",
    "    hybrid_p_sigma_para = xr.open_dataset('/tigress/cw55/data/NNRTMC_dataset/AM4_pk_bk_202207.nc')\n",
    "    A_k = hybrid_p_sigma_para.ak.values[None,:]\n",
    "    B_k = hybrid_p_sigma_para.bk.values[None,:]\n"
   ]
  },
  {
   "cell_type": "code",
   "execution_count": 5,
   "id": "631ab6bb-4a35-40d9-8a06-e88e4d476192",
   "metadata": {
    "execution": {
     "iopub.execute_input": "2023-03-30T13:33:12.937948Z",
     "iopub.status.busy": "2023-03-30T13:33:12.937845Z",
     "iopub.status.idle": "2023-03-30T13:33:12.940252Z",
     "shell.execute_reply": "2023-03-30T13:33:12.939916Z",
     "shell.execute_reply.started": "2023-03-30T13:33:12.937934Z"
    },
    "tags": []
   },
   "outputs": [],
   "source": [
    "plt.rcParams['font.size'] = '6'"
   ]
  },
  {
   "cell_type": "code",
   "execution_count": 6,
   "id": "6997962b-beb1-4cf1-ac10-f2f21df3fcf2",
   "metadata": {
    "execution": {
     "iopub.execute_input": "2023-03-30T13:33:12.941673Z",
     "iopub.status.busy": "2023-03-30T13:33:12.941424Z",
     "iopub.status.idle": "2023-03-30T13:33:12.943765Z",
     "shell.execute_reply": "2023-03-30T13:33:12.943437Z",
     "shell.execute_reply.started": "2023-03-30T13:33:12.941659Z"
    },
    "tags": []
   },
   "outputs": [],
   "source": [
    "month_sel = None\n",
    "day_sel = [15,18,21,24,27]\n",
    "month_sel = [1]\n",
    "day_sel = [1]"
   ]
  },
  {
   "cell_type": "code",
   "execution_count": 7,
   "id": "08b61674-05b0-4811-88b0-fca671981ecf",
   "metadata": {
    "execution": {
     "iopub.execute_input": "2023-03-30T13:33:12.944446Z",
     "iopub.status.busy": "2023-03-30T13:33:12.944273Z",
     "iopub.status.idle": "2023-03-30T13:33:12.950407Z",
     "shell.execute_reply": "2023-03-30T13:33:12.950077Z",
     "shell.execute_reply.started": "2023-03-30T13:33:12.944432Z"
    },
    "jupyter": {
     "source_hidden": true
    },
    "tags": []
   },
   "outputs": [],
   "source": [
    "\n",
    "# a specific implement for Li5ReluBN\n",
    "# (Li BN ReLU ) *4 Li\n",
    "def regroup_linear_BN_para(ori_NN_parameters, nor_para):\n",
    "    new_NN_parameters = []\n",
    "    para_ind = 0\n",
    "    for i in range(4):\n",
    "        # accout for input_nor\n",
    "        weight = ori_NN_parameters[para_ind]\n",
    "        bias   = ori_NN_parameters[para_ind+1]\n",
    "        if para_ind == 0:\n",
    "            bias   = bias - weight@(nor_para['input_scale']*nor_para['input_offset'])\n",
    "            weight = nor_para['input_scale']*weight\n",
    "        # Batch_nor\n",
    "        tmp_BN = ori_NN_parameters[para_ind+2]/np.sqrt(ori_NN_parameters[para_ind+5] + 1e-5)\n",
    "        new_NN_parameters.append(tmp_BN[:,None]*weight)\n",
    "        new_NN_parameters.append((bias-ori_NN_parameters[para_ind+4])*tmp_BN+ori_NN_parameters[para_ind+3])\n",
    "        para_ind = para_ind+7\n",
    "    \n",
    "    weight = ori_NN_parameters[para_ind]\n",
    "    bias   = ori_NN_parameters[para_ind+1]\n",
    "    weight = weight/nor_para['output_scale'][:,None]\n",
    "    bias   = bias/nor_para['output_scale']+nor_para['output_offset']\n",
    "    new_NN_parameters.append(weight)\n",
    "    new_NN_parameters.append(bias)\n",
    "    return new_NN_parameters\n",
    "\n",
    "def save_fnn_parameters(a_list_of_parameters):\n",
    "    # save FNN parameters\n",
    "    # num_layer = len(a_list_of_parameters)/2 \n",
    "    if len(a_list_of_parameters)%2 == 0:\n",
    "        num_layer = len(a_list_of_parameters)/2 \n",
    "    else:\n",
    "        raise Exception('num_layer must be integer')\n",
    "    ds_nn_save = xr.Dataset()\n",
    "    ds_nn_save['LN'] = int(len(a_list_of_parameters)/2)\n",
    "    for i in range(ds_nn_save['LN'].values): \n",
    "        ds_nn_save[f'W{i+1}'] = ((f'x{i+1}',f'y{i+1}'),a_list_of_parameters[i*2])\n",
    "        ds_nn_save[f'B{i+1}'] = ((f'x{i+1}'),a_list_of_parameters[i*2+1])\n",
    "        ds_nn_save[f'size{i+1}0'] = a_list_of_parameters[i*2].shape[0]\n",
    "        ds_nn_save[f'size{i+1}1'] = a_list_of_parameters[i*2].shape[1]\n",
    "    return ds_nn_save"
   ]
  },
  {
   "cell_type": "code",
   "execution_count": 8,
   "id": "eb547042-c3a6-4dea-a4d5-b0a6702daccb",
   "metadata": {
    "execution": {
     "iopub.execute_input": "2023-03-30T13:33:12.951163Z",
     "iopub.status.busy": "2023-03-30T13:33:12.950898Z",
     "iopub.status.idle": "2023-03-30T13:33:12.954789Z",
     "shell.execute_reply": "2023-03-30T13:33:12.954460Z",
     "shell.execute_reply.started": "2023-03-30T13:33:12.951149Z"
    },
    "jupyter": {
     "source_hidden": true
    },
    "tags": []
   },
   "outputs": [],
   "source": [
    "def Rad_NN_activation_function(x):\n",
    "    # ReLU:\n",
    "    if x>0: return x\n",
    "    else: return  np.float32(0)\n",
    "# a specific implement for Li5ReluBN\n",
    "def Rad_NN_pred(NN_parameters, input_X):\n",
    "    # first 4 Linear>Relu>BN\n",
    "    intermediate = np.empty(256)\n",
    "    para_ind = 0\n",
    "    for i in range(4):\n",
    "        # y = x*w+b \n",
    "        if i == 0:  \n",
    "            intermediate = NN_parameters[para_ind] @ input_X.T + NN_parameters[para_ind+1][:,None]\n",
    "        else:\n",
    "            intermediate = NN_parameters[para_ind] @ intermediate + NN_parameters[para_ind+1][:,None]\n",
    "        # y = sigma(y) apply activation function for all nodes\n",
    "        intermediate = np.vectorize(Rad_NN_activation_function)(intermediate)  \n",
    "        # move to next set of para (w,b) from NN \n",
    "        para_ind = para_ind + 2\n",
    "    output_Y = NN_parameters[para_ind] @ intermediate + NN_parameters[para_ind+1][:,None] # y = x*w+b\n",
    "    return output_Y.T"
   ]
  },
  {
   "cell_type": "code",
   "execution_count": 9,
   "id": "cb3579d2-c136-4683-982e-f75413b89266",
   "metadata": {
    "execution": {
     "iopub.execute_input": "2023-03-30T13:33:12.955514Z",
     "iopub.status.busy": "2023-03-30T13:33:12.955365Z",
     "iopub.status.idle": "2023-03-30T13:33:17.815793Z",
     "shell.execute_reply": "2023-03-30T13:33:17.815339Z",
     "shell.execute_reply.started": "2023-03-30T13:33:12.955495Z"
    },
    "tags": []
   },
   "outputs": [
    {
     "name": "stdout",
     "output_type": "stream",
     "text": [
      "AM4std_lw_cs_LiH4Relu_EY\n",
      "load: /tigress/cw55/work/2022_radi_nn/NN_AM4/work/AM4std_lw_cs_LiH4Relu_EY/restart.04.pth\n",
      "Data files:\n",
      "['/scratch/gpfs/cw55/AM4/work/FIXSST_2000s_stellarcpu_intelmpi_22_768PE/HISTORY/20000101.atmos_8xdaily.tile1.nc']\n",
      "Data selection:\n",
      "    Month: [1] \n",
      "    Day: [1] \n",
      "Reading data... 0 Done.\n",
      "Total data size: 73728\n",
      "(73728, 101) (73728, 36)\n",
      "Maximum Relative Error:\n",
      "[3.1104037e-07 2.7030077e-07 2.8069408e-07 6.5790636e-07 2.4520901e-07\n",
      " 3.9918012e-07 1.4922189e-06 7.8801520e-07 1.0084433e-06 2.1688361e-06\n",
      " 2.0623937e-05 3.4149743e-05 3.2982123e-06 1.5311558e-06 6.1635035e-07\n",
      " 1.9528552e-06 2.6253156e-06 2.2480540e-06 2.0374714e-06 1.5900863e-06\n",
      " 2.3006630e-06 1.3225094e-06 7.6378484e-07 7.6612594e-07 1.8549705e-06\n",
      " 2.6536461e-06 5.4304983e-06 2.4725100e-06 1.4331661e-06 1.4699725e-06\n",
      " 1.9452498e-06 3.1930172e-06 3.9239430e-06 3.8944372e-06 1.4462348e-05\n",
      " 7.5794429e-05]\n",
      "AM4std_lw_all_LiH4Relu_EY\n",
      "load: /tigress/cw55/work/2022_radi_nn/NN_AM4/work/AM4std_lw_all_LiH4Relu_EY/restart.04.pth\n",
      "Data files:\n",
      "['/scratch/gpfs/cw55/AM4/work/FIXSST_2000s_stellarcpu_intelmpi_22_768PE/HISTORY/20000101.atmos_8xdaily.tile1.nc']\n",
      "Data selection:\n",
      "    Month: [1] \n",
      "    Day: [1] \n",
      "Reading data... 0 Done.\n",
      "Total data size: 73728\n",
      "(73728, 365) (73728, 36)\n",
      "Maximum Relative Error:\n",
      "[2.7758296e-07 4.6666634e-07 1.8079359e-07 7.6412925e-07 8.6424313e-07\n",
      " 8.5340878e-07 1.1981217e-06 1.4403834e-06 3.9107895e-06 1.2544939e-05\n",
      " 3.2535132e-05 7.6719458e-05 1.5534491e-05 1.0717240e-05 7.4494878e-06\n",
      " 9.2720084e-06 9.6218901e-06 4.3417249e-06 2.6146042e-06 1.8338269e-06\n",
      " 2.4876595e-06 2.7833553e-06 2.1181706e-06 1.5187650e-06 3.2208536e-06\n",
      " 1.1359818e-06 1.8978920e-06 3.8862140e-06 1.7912103e-05 2.2680677e-05\n",
      " 1.5609921e-05 4.9549319e-05 7.4343421e-05 1.3765744e-04 3.7163711e-05\n",
      " 4.7278925e-05]\n",
      "AM4std_sw_cs_LiH4Relu_EY\n",
      "load: /tigress/cw55/work/2022_radi_nn/NN_AM4/work/AM4std_sw_cs_LiH4Relu_EY/restart.04.pth\n",
      "Data files:\n",
      "['/scratch/gpfs/cw55/AM4/work/FIXSST_2000s_stellarcpu_intelmpi_22_768PE/HISTORY/20000101.atmos_8xdaily.tile1.nc']\n",
      "Data selection:\n",
      "    Month: [1] \n",
      "    Day: [1] \n",
      "Reading data... 0 "
     ]
    },
    {
     "name": "stderr",
     "output_type": "stream",
     "text": [
      "/tigress/cw55/work/2022_radi_nn/NN_AM4/get_data_sw_AM4_std.py:69: RuntimeWarning: divide by zero encountered in true_divide\n",
      "  rsdt_r = np.where(np.isclose(rsdt,0,rtol=1e-05, atol=1e-1,), 0, 1/rsdt)\n"
     ]
    },
    {
     "name": "stdout",
     "output_type": "stream",
     "text": [
      "Done.\n",
      "Total data size: 73728\n",
      "Night time will be removed! (rsdt==0)\n",
      "Total data size (daylight): (45722,)\n",
      "(45722, 106) (45722, 36)\n",
      "Maximum Relative Error:\n",
      "[2.0233676e-07 1.4293546e-07 6.5711953e-07 1.8241627e-07 2.7779507e-07\n",
      " 2.6873963e-07 1.7350837e-07 1.3345806e-07 1.5248105e-07 1.9116735e-07\n",
      " 1.5810807e-07 1.4517727e-07 1.0548096e-07 1.9186091e-07 4.5169719e-07\n",
      " 3.8325143e-07 1.1848590e-06 4.5437409e-07 4.9352064e-07 4.1384834e-07\n",
      " 1.2141197e-06 4.7816104e-07 5.3893081e-07 4.4950986e-07 4.2453743e-07\n",
      " 2.7594189e-07 5.2784736e-07 1.5631545e-07 3.1245898e-07 3.1626143e-07\n",
      " 3.3281651e-07 3.1324083e-07 3.5890633e-07 3.2364431e-07 2.7173272e-07\n",
      " 2.1107485e-07]\n",
      "AM4std_sw_all_LiH4Relu_EY\n",
      "load: /tigress/cw55/work/2022_radi_nn/NN_AM4/work/AM4std_sw_all_LiH4Relu_EY/restart.04.pth\n",
      "Data files:\n",
      "['/scratch/gpfs/cw55/AM4/work/FIXSST_2000s_stellarcpu_intelmpi_22_768PE/HISTORY/20000101.atmos_8xdaily.tile1.nc']\n",
      "Data selection:\n",
      "    Month: [1] \n",
      "    Day: [1] \n",
      "Reading data... 0 Done.\n",
      "Total data size: 73728\n",
      "Night time will be removed! (rsdt==0)\n",
      "Total data size (daylight): (45722,)\n",
      "(45722, 370) (45722, 36)\n",
      "Maximum Relative Error:\n",
      "[5.0074271e-07 8.2578697e-07 1.5339976e-06 1.5036946e-06 2.0079665e-06\n",
      " 1.6349534e-06 1.1454943e-06 7.9647180e-07 7.3732144e-07 6.4973949e-07\n",
      " 5.1679058e-07 3.2109358e-07 9.3379259e-07 2.0234008e-06 3.7293212e-06\n",
      " 2.8561142e-06 7.5069147e-07 9.8974886e-07 1.0768995e-06 1.3769063e-06\n",
      " 1.1518492e-06 1.9599506e-06 1.5000460e-06 1.2968926e-06 1.7543931e-06\n",
      " 7.5114554e-07 1.7678865e-06 2.0954224e-06 2.4231963e-06 1.8446997e-06\n",
      " 2.1144983e-06 2.2872412e-06 2.2242514e-06 2.0853724e-06 2.0101836e-06\n",
      " 1.9607278e-06]\n"
     ]
    }
   ],
   "source": [
    "# %%time\n",
    "predi = {}\n",
    "error = {}\n",
    "eng_err = {}\n",
    "NN_model = {}\n",
    "ds_regrid = {}\n",
    "ds_save = {}\n",
    "for mo in Exp_name:\n",
    "    print(mo)\n",
    "    ######################################################\n",
    "    # load restart file\n",
    "    run_num, exp_dir = return_exp_dir(work_dir, mo, create_dir=False)\n",
    "    PATH_last =  exp_dir+f'/restart.{run_num-1:02d}.pth'\n",
    "    restart_data = torch.load(PATH_last)  # load exist results and restart training\n",
    "    print(f'load: {PATH_last}')\n",
    "    # read training dataset, nor_para, model parameteres\n",
    "    nor_para = restart_data['nor_para']\n",
    "    model_state_dict = restart_data['model_state_dict']\n",
    "    # read data\n",
    "    if 'lw' in mo:\n",
    "        input_array_ori, output_array_ori, ds_coords = \\\n",
    "        get_data_lw_AM4(filelist, condition=sky_cond[mo], \n",
    "                        month_sel = month_sel, day_sel = day_sel, return_coords=True) \n",
    "    else: \n",
    "        input_array_ori, output_array_ori, rsdt_array_ori, ds_coords = \\\n",
    "        get_data_sw_AM4(filelist, condition=sky_cond[mo], \n",
    "                        month_sel = month_sel, day_sel = day_sel, return_coords=True) \n",
    "    \n",
    "    # initialize model \n",
    "    NN_model[mo] = Exp_name_model_dict[mo].NNRTMC_NN(device, nor_para, A_k, B_k, input_array_ori.shape[1],model_state_dict)  \n",
    "    \n",
    "    # normalize data via saved nor_para in restart file\n",
    "    if 'lw' in mo:\n",
    "        nor_para, input_array, output_array   = \\\n",
    "        data_std_normalization(input_array_ori, output_array_ori, nor_para) \n",
    "    else: \n",
    "        nor_para, input_array, output_array, rsdt_array, day_ind = \\\n",
    "        data_std_normalization_sw(input_array_ori, output_array_ori, rsdt_array_ori, nor_para)    \n",
    "        \n",
    "    # process NN dict and save parameters\n",
    "    a_list_of_parameters = [model_state_dict[_].numpy() for _ in model_state_dict.keys()]\n",
    "    a_list_of_parameters = regroup_linear_BN_para(a_list_of_parameters, nor_para)\n",
    "    ds_save[mo] = save_fnn_parameters(a_list_of_parameters)\n",
    "    ds_save[mo].attrs['info'] = f'FNN parameters for RadNN AM4 standard, 20230330'\n",
    "    ds_save[mo].attrs['model'] = mo\n",
    "    ds_save[mo].to_netcdf(f'RadNN_para_AM4std_LiH4ReluW256.{mo}.nc')\n",
    "    \n",
    "    \n",
    "    # check results\n",
    "    print(input_array.shape,output_array.shape)\n",
    "    # select a subset of input\n",
    "    input_X = input_array[:10,:]\n",
    "    output_Y = output_array[:10,:] \n",
    "    if 'lw' in mo:\n",
    "        input_X_ori = input_array_ori[:10,:]\n",
    "    else:\n",
    "        input_X_ori = input_array_ori[day_ind[:10],:]\n",
    "    # results from pytorch\n",
    "    NN_pred1 = NN_model[mo].predict(torch.tensor(input_X).to(device)).cpu().numpy()\n",
    "    NN_pred1 = NN_pred1/nor_para['output_scale']+nor_para['output_offset']\n",
    "    # results from prototype function \n",
    "    NN_pred2 = Rad_NN_pred(a_list_of_parameters, input_X_ori)\n",
    "    r_err = (abs(NN_pred1 - NN_pred2)/abs(NN_pred1 + NN_pred2)).mean(axis=0)\n",
    "    print('Maximum Relative Error:')\n",
    "    print(r_err)\n",
    "    # break"
   ]
  },
  {
   "cell_type": "code",
   "execution_count": null,
   "id": "bc36974f-5e85-4174-9577-b0cc963587ce",
   "metadata": {},
   "outputs": [],
   "source": []
  }
 ],
 "metadata": {
  "kernelspec": {
   "display_name": "pytorch",
   "language": "python",
   "name": "pytorch"
  },
  "language_info": {
   "codemirror_mode": {
    "name": "ipython",
    "version": 3
   },
   "file_extension": ".py",
   "mimetype": "text/x-python",
   "name": "python",
   "nbconvert_exporter": "python",
   "pygments_lexer": "ipython3",
   "version": "3.10.4"
  },
  "widgets": {
   "application/vnd.jupyter.widget-state+json": {
    "state": {},
    "version_major": 2,
    "version_minor": 0
   }
  }
 },
 "nbformat": 4,
 "nbformat_minor": 5
}
