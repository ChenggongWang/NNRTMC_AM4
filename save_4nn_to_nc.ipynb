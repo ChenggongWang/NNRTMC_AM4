{
 "cells": [
  {
   "cell_type": "code",
   "execution_count": 1,
   "id": "adf1c818-1c2d-4b0e-9a68-f0b4c67d5461",
   "metadata": {
    "execution": {
     "iopub.execute_input": "2023-05-23T01:24:19.543197Z",
     "iopub.status.busy": "2023-05-23T01:24:19.543073Z",
     "iopub.status.idle": "2023-05-23T01:24:21.027147Z",
     "shell.execute_reply": "2023-05-23T01:24:21.026714Z",
     "shell.execute_reply.started": "2023-05-23T01:24:19.543159Z"
    },
    "tags": []
   },
   "outputs": [],
   "source": [
    "import numpy as np\n",
    "import torch\n",
    "from torch import nn  \n",
    "import time \n",
    "import os  \n",
    "import xarray as xr\n",
    "import subprocess\n",
    "import matplotlib.pyplot as plt\n",
    "from matplotlib import colors\n",
    "import cartopy.crs as ccrs"
   ]
  },
  {
   "cell_type": "code",
   "execution_count": 2,
   "id": "6819283e-491c-4f5b-8358-067c9fc7ec06",
   "metadata": {
    "execution": {
     "iopub.execute_input": "2023-05-23T01:24:21.028467Z",
     "iopub.status.busy": "2023-05-23T01:24:21.028320Z",
     "iopub.status.idle": "2023-05-23T01:24:21.222792Z",
     "shell.execute_reply": "2023-05-23T01:24:21.222344Z",
     "shell.execute_reply.started": "2023-05-23T01:24:21.028452Z"
    },
    "tags": []
   },
   "outputs": [],
   "source": [
    "## import self defined functions\n",
    "from sys import path \n",
    "# insert at 1, 0 is the script path (or '' in REPL)\n",
    "path.insert(1, '/tigress/cw55/local/python_lib')\n",
    "from cg_funcs import global_mean_xarray\n",
    "root = '/tigress/cw55/work/2022_radi_nn' "
   ]
  },
  {
   "cell_type": "code",
   "execution_count": 3,
   "id": "69d35949-0d19-4f2e-8b6a-0d76997676a7",
   "metadata": {
    "execution": {
     "iopub.execute_input": "2023-05-23T01:24:21.223633Z",
     "iopub.status.busy": "2023-05-23T01:24:21.223487Z",
     "iopub.status.idle": "2023-05-23T01:24:21.228820Z",
     "shell.execute_reply": "2023-05-23T01:24:21.228408Z",
     "shell.execute_reply.started": "2023-05-23T01:24:21.223617Z"
    },
    "tags": []
   },
   "outputs": [],
   "source": [
    "from get_data_sw_AM4_std import get_data_sw_AM4\n",
    "from get_data_lw_AM4_std import get_data_lw_AM4\n",
    "######################################################\n",
    "# common functions to split the training and test data\n",
    "from NNRTMC_utils import NNRTMC_NN_sw, NNRTMC_NN_lw, split_train_test_sample, \\\n",
    "draw_batches, data_std_normalization_sw, data_std_normalization_lw,  return_exp_dir\n",
    "torch.set_float32_matmul_precision('high') "
   ]
  },
  {
   "cell_type": "code",
   "execution_count": 4,
   "id": "631ab6bb-4a35-40d9-8a06-e88e4d476192",
   "metadata": {
    "execution": {
     "iopub.execute_input": "2023-05-23T01:24:21.229651Z",
     "iopub.status.busy": "2023-05-23T01:24:21.229462Z",
     "iopub.status.idle": "2023-05-23T01:24:21.232198Z",
     "shell.execute_reply": "2023-05-23T01:24:21.231787Z",
     "shell.execute_reply.started": "2023-05-23T01:24:21.229637Z"
    },
    "tags": []
   },
   "outputs": [],
   "source": [
    "plt.rcParams['font.size'] = '6'"
   ]
  },
  {
   "cell_type": "code",
   "execution_count": 5,
   "id": "c499ebeb-a7a2-4d5e-be47-140e7e6784e5",
   "metadata": {
    "execution": {
     "iopub.execute_input": "2023-05-23T01:24:21.232987Z",
     "iopub.status.busy": "2023-05-23T01:24:21.232805Z",
     "iopub.status.idle": "2023-05-23T01:24:21.248661Z",
     "shell.execute_reply": "2023-05-23T01:24:21.248200Z",
     "shell.execute_reply.started": "2023-05-23T01:24:21.232973Z"
    },
    "tags": []
   },
   "outputs": [],
   "source": [
    "# torch.cuda.set_device(0) # select gpu_id, default 0 means the first GPU\n",
    "# device = f'cuda:{torch.cuda.current_device()}'\n",
    "device = 'cpu'\n",
    "######################################################\n",
    "# set exp name and runs\n",
    "Exp_name = [\n",
    "    'ens_AM4std_lw_cs_LiH4W256Relu_EY'    ,\n",
    "    'ens_AM4std_lw_all_LiH4W256Relu_EY'   ,\n",
    "    'ens_AM4std_sw_cs_LiH4W256Relu_EY'    ,\n",
    "    'ens_AM4std_sw_all_LiH4W256Relu_EY'   ,\n",
    "] \n",
    "sky_cond = {\n",
    "    'ens_AM4std_lw_cs_LiH4W256Relu_EY'    : 'cs',\n",
    "    'ens_AM4std_lw_all_LiH4W256Relu_EY'   : 'all',\n",
    "    'ens_AM4std_sw_cs_LiH4W256Relu_EY'    : 'cs',\n",
    "    'ens_AM4std_sw_all_LiH4W256Relu_EY'   : 'all',\n",
    "}\n",
    "#select ei based on std_[l/s]w_analysis\n",
    "ei = {\n",
    "    'ens_AM4std_lw_cs_LiH4W256Relu_EY'    : 0,\n",
    "    'ens_AM4std_lw_all_LiH4W256Relu_EY'   : 0,\n",
    "    'ens_AM4std_sw_cs_LiH4W256Relu_EY'    : 1,\n",
    "    'ens_AM4std_sw_all_LiH4W256Relu_EY'   : 0,\n",
    "}\n",
    "\n",
    "work_dir = root+'/work/' \n",
    "# file list AM4 runs \n",
    "filelist = [f'/scratch/gpfs/cw55/AM4/work/CTL2000_train_y2000_stellarcpu_intelmpi_22_768PE/'+\n",
    "            f'HISTORY/20000101.atmos_8xdaily.tile{_}.nc' for _ in range(1,2)] \n",
    "hybrid_p_sigma_para = xr.open_dataset('/tigress/cw55/data/NNRTMC_dataset/AM4_pk_bk_202207.nc')\n",
    "A_k = hybrid_p_sigma_para.ak.values[None,:]\n",
    "B_k = hybrid_p_sigma_para.bk.values[None,:] "
   ]
  },
  {
   "cell_type": "code",
   "execution_count": 6,
   "id": "6997962b-beb1-4cf1-ac10-f2f21df3fcf2",
   "metadata": {
    "execution": {
     "iopub.execute_input": "2023-05-23T01:24:21.249593Z",
     "iopub.status.busy": "2023-05-23T01:24:21.249430Z",
     "iopub.status.idle": "2023-05-23T01:24:21.252538Z",
     "shell.execute_reply": "2023-05-23T01:24:21.252123Z",
     "shell.execute_reply.started": "2023-05-23T01:24:21.249578Z"
    },
    "tags": []
   },
   "outputs": [],
   "source": [
    "month_sel = None\n",
    "day_sel = [15,18,21,24,27]\n",
    "month_sel = [1]\n",
    "day_sel = [1]"
   ]
  },
  {
   "cell_type": "code",
   "execution_count": 7,
   "id": "08b61674-05b0-4811-88b0-fca671981ecf",
   "metadata": {
    "execution": {
     "iopub.execute_input": "2023-05-23T01:24:21.254089Z",
     "iopub.status.busy": "2023-05-23T01:24:21.253916Z",
     "iopub.status.idle": "2023-05-23T01:24:21.263076Z",
     "shell.execute_reply": "2023-05-23T01:24:21.262661Z",
     "shell.execute_reply.started": "2023-05-23T01:24:21.254073Z"
    },
    "tags": []
   },
   "outputs": [],
   "source": [
    "\n",
    "# a specific implement for Li5ReluBN\n",
    "# (Li BN ReLU ) *4 Li\n",
    "def regroup_linear_BN_para(ori_NN_parameters, nor_para):\n",
    "    new_NN_parameters = []\n",
    "    para_ind = 0\n",
    "    for i in range(4):\n",
    "        # accout for input_nor\n",
    "        weight = ori_NN_parameters[para_ind]\n",
    "        bias   = ori_NN_parameters[para_ind+1]\n",
    "        if para_ind == 0:\n",
    "            bias   = bias - weight@(nor_para['input_scale']*nor_para['input_offset'])\n",
    "            weight = nor_para['input_scale']*weight\n",
    "        # Batch_nor\n",
    "        tmp_BN = ori_NN_parameters[para_ind+2]/np.sqrt(ori_NN_parameters[para_ind+5] + 1e-5)\n",
    "        new_NN_parameters.append(tmp_BN[:,None]*weight)\n",
    "        new_NN_parameters.append((bias-ori_NN_parameters[para_ind+4])*tmp_BN+ori_NN_parameters[para_ind+3])\n",
    "        para_ind = para_ind+7\n",
    "    \n",
    "    weight = ori_NN_parameters[para_ind]\n",
    "    bias   = ori_NN_parameters[para_ind+1]\n",
    "    weight = weight/nor_para['output_scale'][:,None]\n",
    "    bias   = bias/nor_para['output_scale']+nor_para['output_offset']\n",
    "    new_NN_parameters.append(weight)\n",
    "    new_NN_parameters.append(bias)\n",
    "    return new_NN_parameters\n",
    "\n",
    "def save_fnn_parameters(a_list_of_parameters):\n",
    "    # save FNN parameters\n",
    "    # num_layer = len(a_list_of_parameters)/2 \n",
    "    if len(a_list_of_parameters)%2 == 0:\n",
    "        num_layer = len(a_list_of_parameters)/2 \n",
    "    else:\n",
    "        raise Exception('num_layer must be integer')\n",
    "    ds_nn_save = xr.Dataset()\n",
    "    ds_nn_save['LN'] = int(len(a_list_of_parameters)/2)\n",
    "    for i in range(ds_nn_save['LN'].values): \n",
    "        ds_nn_save[f'W{i+1}'] = ((f'x{i+1}',f'y{i+1}'),a_list_of_parameters[i*2])\n",
    "        ds_nn_save[f'B{i+1}'] = ((f'x{i+1}'),a_list_of_parameters[i*2+1])\n",
    "        ds_nn_save[f'size{i+1}0'] = a_list_of_parameters[i*2].shape[0]\n",
    "        ds_nn_save[f'size{i+1}1'] = a_list_of_parameters[i*2].shape[1]\n",
    "    return ds_nn_save"
   ]
  },
  {
   "cell_type": "code",
   "execution_count": 8,
   "id": "eb547042-c3a6-4dea-a4d5-b0a6702daccb",
   "metadata": {
    "execution": {
     "iopub.execute_input": "2023-05-23T01:24:21.263909Z",
     "iopub.status.busy": "2023-05-23T01:24:21.263722Z",
     "iopub.status.idle": "2023-05-23T01:24:21.267961Z",
     "shell.execute_reply": "2023-05-23T01:24:21.267573Z",
     "shell.execute_reply.started": "2023-05-23T01:24:21.263894Z"
    },
    "tags": []
   },
   "outputs": [],
   "source": [
    "def Rad_NN_activation_function(x):\n",
    "    # ReLU:\n",
    "    if x>0: return x\n",
    "    else: return  np.float32(0)\n",
    "# a specific implement for Li5ReluBN\n",
    "def Rad_NN_pred(NN_parameters, input_X):\n",
    "    # first 4 Linear>Relu>BN\n",
    "    intermediate = np.empty(256)\n",
    "    para_ind = 0\n",
    "    for i in range(4):\n",
    "        # y = x*w+b \n",
    "        if i == 0:  \n",
    "            intermediate = NN_parameters[para_ind] @ input_X.T + NN_parameters[para_ind+1][:,None]\n",
    "        else:\n",
    "            intermediate = NN_parameters[para_ind] @ intermediate + NN_parameters[para_ind+1][:,None]\n",
    "        # y = sigma(y) apply activation function for all nodes\n",
    "        intermediate = np.vectorize(Rad_NN_activation_function)(intermediate)  \n",
    "        # move to next set of para (w,b) from NN \n",
    "        para_ind = para_ind + 2\n",
    "    output_Y = NN_parameters[para_ind] @ intermediate + NN_parameters[para_ind+1][:,None] # y = x*w+b\n",
    "    return output_Y.T"
   ]
  },
  {
   "cell_type": "code",
   "execution_count": 9,
   "id": "cb3579d2-c136-4683-982e-f75413b89266",
   "metadata": {
    "execution": {
     "iopub.execute_input": "2023-05-23T01:24:21.268807Z",
     "iopub.status.busy": "2023-05-23T01:24:21.268663Z",
     "iopub.status.idle": "2023-05-23T01:24:25.364832Z",
     "shell.execute_reply": "2023-05-23T01:24:25.364385Z",
     "shell.execute_reply.started": "2023-05-23T01:24:21.268793Z"
    },
    "tags": []
   },
   "outputs": [
    {
     "name": "stdout",
     "output_type": "stream",
     "text": [
      "ens_AM4std_lw_cs_LiH4W256Relu_EY\n",
      "load: /tigress/cw55/work/2022_radi_nn/work/ens_AM4std_lw_cs_LiH4W256Relu_EY/model0_restart.03.pth\n",
      "101 35 256\n",
      "Data files:\n",
      "['/scratch/gpfs/cw55/AM4/work/CTL2000_train_y2000_stellarcpu_intelmpi_22_768PE/HISTORY/20000101.atmos_8xdaily.tile1.nc']\n",
      "Data selection:\n",
      "    Month: [1] \n",
      "    Day: [1] \n",
      "Reading data... 0 \n",
      "Read data done. Use time:   0s\n",
      "Total data size: 73728\n",
      "(73728, 101) (73728, 35)\n",
      "Maximum Relative Error | MAX : 1.47e-05 | Mean: 3.70e-06\n",
      "ens_AM4std_lw_all_LiH4W256Relu_EY\n",
      "load: /tigress/cw55/work/2022_radi_nn/work/ens_AM4std_lw_all_LiH4W256Relu_EY/model0_restart.03.pth\n",
      "365 35 256\n",
      "Data files:\n",
      "['/scratch/gpfs/cw55/AM4/work/CTL2000_train_y2000_stellarcpu_intelmpi_22_768PE/HISTORY/20000101.atmos_8xdaily.tile1.nc']\n",
      "Data selection:\n",
      "    Month: [1] \n",
      "    Day: [1] \n",
      "Reading data... 0 \n",
      "Read data done. Use time:   0s\n",
      "Total data size: 73728\n",
      "(73728, 365) (73728, 35)\n",
      "Maximum Relative Error | MAX : 5.48e-05 | Mean: 7.17e-06\n",
      "ens_AM4std_sw_cs_LiH4W256Relu_EY\n",
      "load: /tigress/cw55/work/2022_radi_nn/work/ens_AM4std_sw_cs_LiH4W256Relu_EY/model1_restart.03.pth\n",
      "106 36 256\n",
      "Data files:\n",
      "['/scratch/gpfs/cw55/AM4/work/CTL2000_train_y2000_stellarcpu_intelmpi_22_768PE/HISTORY/20000101.atmos_8xdaily.tile1.nc']\n",
      "Data selection:\n",
      "    Month: [1] \n",
      "    Day: [1] \n",
      "Reading data... 0 "
     ]
    },
    {
     "name": "stderr",
     "output_type": "stream",
     "text": [
      "/tigress/cw55/work/2022_radi_nn/NN_AM4/get_data_sw_AM4_std.py:71: RuntimeWarning: divide by zero encountered in true_divide\n",
      "  rsdt_r = np.where(np.isclose(rsdt,0,rtol=1e-05, atol=1e-1,), 0, 1/rsdt)\n"
     ]
    },
    {
     "name": "stdout",
     "output_type": "stream",
     "text": [
      "\n",
      "Read data done. Use time:   0s\n",
      "Total data size: 73728\n",
      "Night time will be removed! (rsdt==0)\n",
      "Total data size (daylight): (45722,)\n",
      "(45722, 106) (45722, 36)\n",
      "Maximum Relative Error | MAX : 4.44e-07 | Mean: 2.37e-07\n",
      "ens_AM4std_sw_all_LiH4W256Relu_EY\n",
      "load: /tigress/cw55/work/2022_radi_nn/work/ens_AM4std_sw_all_LiH4W256Relu_EY/model0_restart.03.pth\n",
      "370 36 256\n",
      "Data files:\n",
      "['/scratch/gpfs/cw55/AM4/work/CTL2000_train_y2000_stellarcpu_intelmpi_22_768PE/HISTORY/20000101.atmos_8xdaily.tile1.nc']\n",
      "Data selection:\n",
      "    Month: [1] \n",
      "    Day: [1] \n",
      "Reading data... 0 \n",
      "Read data done. Use time:   0s\n",
      "Total data size: 73728\n",
      "Night time will be removed! (rsdt==0)\n",
      "Total data size (daylight): (45722,)\n",
      "(45722, 370) (45722, 36)\n",
      "Maximum Relative Error | MAX : 1.84e-06 | Mean: 7.47e-07\n"
     ]
    }
   ],
   "source": [
    "# %%time\n",
    "predi = {}\n",
    "error = {}\n",
    "eng_err = {}\n",
    "NN_model = {}\n",
    "ds_regrid = {}\n",
    "ds_save = {}\n",
    "for mo in Exp_name:\n",
    "    print(mo)\n",
    "    ######################################################\n",
    "    # load restart file\n",
    "    run_num, exp_dir = return_exp_dir(work_dir, mo, create_dir=False)\n",
    "    PATH_last =  exp_dir+f'/model{ei[mo]}_restart.{run_num-1:02d}.pth'\n",
    "    restart_data = torch.load(PATH_last)  # load exist results and restart training\n",
    "    print(f'load: {PATH_last}')\n",
    "    # read training dataset, nor_para, model parameteres\n",
    "    nor_para = restart_data['nor_para']\n",
    "    model_state_dict = restart_data['model_state_dict']\n",
    "    nn_struc_name = list(restart_data['model_state_dict'].keys())\n",
    "    input_size  = restart_data['model_state_dict'][nn_struc_name[0]].shape[1]\n",
    "    output_size = restart_data['model_state_dict'][nn_struc_name[-1]].shape[0]\n",
    "    hidden_layer_width = restart_data['model_state_dict'][nn_struc_name[0]].shape[0]\n",
    "    print(input_size, output_size, hidden_layer_width,) \n",
    "    # read data\n",
    "    if 'lw' in mo:\n",
    "        input_array_ori, output_array_ori, ds_coords = \\\n",
    "        get_data_lw_AM4(filelist, condition=sky_cond[mo], \n",
    "                        month_sel = month_sel, day_sel = day_sel, return_coords=True) \n",
    "    else: \n",
    "        input_array_ori, output_array_ori, rsdt_array_ori, ds_coords = \\\n",
    "        get_data_sw_AM4(filelist, condition=sky_cond[mo], \n",
    "                        month_sel = month_sel, day_sel = day_sel, return_coords=True) \n",
    "    \n",
    "    # initialize model \n",
    "    if 'lw' in mo:\n",
    "        NN_model[mo] = NNRTMC_NN_lw(device, nor_para, A_k, B_k,input_size, output_size, hidden_layer_width ,model_state_dict)  \n",
    "    else:\n",
    "        NN_model[mo] = NNRTMC_NN_sw(device, nor_para, A_k, B_k,input_size, output_size, hidden_layer_width ,model_state_dict)  \n",
    "        \n",
    "    # normalize data via saved nor_para in restart file\n",
    "    if 'lw' in mo:\n",
    "        nor_para, input_array, output_array   = \\\n",
    "        data_std_normalization_lw(input_array_ori, output_array_ori, nor_para) \n",
    "    else: \n",
    "        nor_para, input_array, output_array, rsdt_array, day_ind = \\\n",
    "        data_std_normalization_sw(input_array_ori, output_array_ori, rsdt_array_ori, nor_para)    \n",
    "        \n",
    "    # process NN dict and save parameters\n",
    "    a_list_of_parameters = [model_state_dict[_].numpy() for _ in model_state_dict.keys()]\n",
    "    a_list_of_parameters = regroup_linear_BN_para(a_list_of_parameters, nor_para)\n",
    "    ds_save[mo] = save_fnn_parameters(a_list_of_parameters)\n",
    "    ds_save[mo].attrs['info'] = f'FNN parameters for RadNN AM4 standard, 202305220'\n",
    "    ds_save[mo].attrs['model'] = f'{mo} #{ei}'\n",
    "    ds_save[mo].to_netcdf(f'./saved_para_files/2023May_O36_LiH4ReluW256/RadNN_para_AM4std_LiH4ReluW256.{mo}.nc')\n",
    "    \n",
    "    # check results\n",
    "    print(input_array.shape,output_array.shape)\n",
    "    # select a subset of input\n",
    "    input_X = input_array[:10,:]\n",
    "    output_Y = output_array[:10,:] \n",
    "    if 'lw' in mo:\n",
    "        input_X_ori = input_array_ori[:10,:]\n",
    "    else:\n",
    "        input_X_ori = input_array_ori[day_ind[:10],:]\n",
    "    # results from pytorch\n",
    "    NN_pred1 = NN_model[mo].predict(torch.tensor(input_X).to(device))\n",
    "    NN_pred1 = NN_pred1/nor_para['output_scale']+nor_para['output_offset']\n",
    "    # results from prototype function \n",
    "    NN_pred2 = Rad_NN_pred(a_list_of_parameters, input_X_ori)\n",
    "    r_err = (abs(NN_pred1 - NN_pred2)/abs(NN_pred1 + NN_pred2)).mean(axis=0)\n",
    "    print(f'Maximum Relative Error | MAX : {np.max(r_err):8.2e} | Mean: {np.mean(r_err):8.2e}') \n",
    "    # break"
   ]
  },
  {
   "cell_type": "code",
   "execution_count": null,
   "id": "bc36974f-5e85-4174-9577-b0cc963587ce",
   "metadata": {},
   "outputs": [],
   "source": []
  }
 ],
 "metadata": {
  "kernelspec": {
   "display_name": "pytorch",
   "language": "python",
   "name": "pytorch"
  },
  "language_info": {
   "codemirror_mode": {
    "name": "ipython",
    "version": 3
   },
   "file_extension": ".py",
   "mimetype": "text/x-python",
   "name": "python",
   "nbconvert_exporter": "python",
   "pygments_lexer": "ipython3",
   "version": "3.10.4"
  },
  "widgets": {
   "application/vnd.jupyter.widget-state+json": {
    "state": {},
    "version_major": 2,
    "version_minor": 0
   }
  }
 },
 "nbformat": 4,
 "nbformat_minor": 5
}
