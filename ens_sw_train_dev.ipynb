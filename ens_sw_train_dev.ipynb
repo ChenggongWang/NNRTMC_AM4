{
 "cells": [
  {
   "cell_type": "code",
   "execution_count": 1,
   "id": "89aaa5b2-0ab5-451f-aa1b-66d6ff4bf444",
   "metadata": {
    "execution": {
     "iopub.execute_input": "2023-05-18T17:53:33.755278Z",
     "iopub.status.busy": "2023-05-18T17:53:33.754586Z",
     "iopub.status.idle": "2023-05-18T17:54:52.076616Z",
     "shell.execute_reply": "2023-05-18T17:54:52.071920Z",
     "shell.execute_reply.started": "2023-05-18T17:53:33.755259Z"
    },
    "tags": []
   },
   "outputs": [
    {
     "name": "stdout",
     "output_type": "stream",
     "text": [
      "copy trainscript failed\n",
      "restart from: /tigress/cw55/work/2022_radi_nn/NN_AM4/work/ens_AM4std_sw_all_LiH4W256Relu_EY/model0_restart.02.pth\n",
      "restart from: /tigress/cw55/work/2022_radi_nn/NN_AM4/work/ens_AM4std_sw_all_LiH4W256Relu_EY/model1_restart.02.pth\n",
      "Data files:\n",
      "['/scratch/gpfs/cw55/AM4/work/CTL2000_train_y2000_stellarcpu_intelmpi_22_768PE/HISTORY/20000101.atmos_8xdaily.tile1.nc', '/scratch/gpfs/cw55/AM4/work/CTL2000_train_y2000_stellarcpu_intelmpi_22_768PE/HISTORY/20000101.atmos_8xdaily.tile2.nc', '/scratch/gpfs/cw55/AM4/work/CTL2000_train_y2000_stellarcpu_intelmpi_22_768PE/HISTORY/20000101.atmos_8xdaily.tile3.nc', '/scratch/gpfs/cw55/AM4/work/CTL2000_train_y2000_stellarcpu_intelmpi_22_768PE/HISTORY/20000101.atmos_8xdaily.tile4.nc', '/scratch/gpfs/cw55/AM4/work/CTL2000_train_y2000_stellarcpu_intelmpi_22_768PE/HISTORY/20000101.atmos_8xdaily.tile5.nc', '/scratch/gpfs/cw55/AM4/work/CTL2000_train_y2000_stellarcpu_intelmpi_22_768PE/HISTORY/20000101.atmos_8xdaily.tile6.nc']\n",
      "Data selection:\n",
      "    Month: [1, 4, 7, 11] \n",
      "    Day: [1] \n",
      "Reading data... 0 "
     ]
    },
    {
     "name": "stderr",
     "output_type": "stream",
     "text": [
      "/tigress/cw55/work/2022_radi_nn/NN_AM4/get_data_sw_AM4_std.py:69: RuntimeWarning: divide by zero encountered in true_divide\n",
      "  rsdt_r = np.where(np.isclose(rsdt,0,rtol=1e-05, atol=1e-1,), 0, 1/rsdt)\n"
     ]
    },
    {
     "name": "stdout",
     "output_type": "stream",
     "text": [
      "1 "
     ]
    },
    {
     "name": "stderr",
     "output_type": "stream",
     "text": [
      "/tigress/cw55/work/2022_radi_nn/NN_AM4/get_data_sw_AM4_std.py:69: RuntimeWarning: divide by zero encountered in true_divide\n",
      "  rsdt_r = np.where(np.isclose(rsdt,0,rtol=1e-05, atol=1e-1,), 0, 1/rsdt)\n"
     ]
    },
    {
     "name": "stdout",
     "output_type": "stream",
     "text": [
      "2 "
     ]
    },
    {
     "name": "stderr",
     "output_type": "stream",
     "text": [
      "/tigress/cw55/work/2022_radi_nn/NN_AM4/get_data_sw_AM4_std.py:69: RuntimeWarning: divide by zero encountered in true_divide\n",
      "  rsdt_r = np.where(np.isclose(rsdt,0,rtol=1e-05, atol=1e-1,), 0, 1/rsdt)\n"
     ]
    },
    {
     "name": "stdout",
     "output_type": "stream",
     "text": [
      "3 "
     ]
    },
    {
     "name": "stderr",
     "output_type": "stream",
     "text": [
      "/tigress/cw55/work/2022_radi_nn/NN_AM4/get_data_sw_AM4_std.py:69: RuntimeWarning: divide by zero encountered in true_divide\n",
      "  rsdt_r = np.where(np.isclose(rsdt,0,rtol=1e-05, atol=1e-1,), 0, 1/rsdt)\n"
     ]
    },
    {
     "name": "stdout",
     "output_type": "stream",
     "text": [
      "4 "
     ]
    },
    {
     "name": "stderr",
     "output_type": "stream",
     "text": [
      "/tigress/cw55/work/2022_radi_nn/NN_AM4/get_data_sw_AM4_std.py:69: RuntimeWarning: divide by zero encountered in true_divide\n",
      "  rsdt_r = np.where(np.isclose(rsdt,0,rtol=1e-05, atol=1e-1,), 0, 1/rsdt)\n"
     ]
    },
    {
     "name": "stdout",
     "output_type": "stream",
     "text": [
      "5 "
     ]
    },
    {
     "name": "stderr",
     "output_type": "stream",
     "text": [
      "/tigress/cw55/work/2022_radi_nn/NN_AM4/get_data_sw_AM4_std.py:69: RuntimeWarning: divide by zero encountered in true_divide\n",
      "  rsdt_r = np.where(np.isclose(rsdt,0,rtol=1e-05, atol=1e-1,), 0, 1/rsdt)\n"
     ]
    },
    {
     "name": "stdout",
     "output_type": "stream",
     "text": [
      "Done.\n",
      "Features| Input: 370,  Output: 36\n",
      "Total data size: 1769472\n",
      "Night time will be removed! (rsdt==0)\n",
      "Total data size (daylight): (1057104,)\n",
      "Total data size: 1057104\n",
      "Test data ratio: 0.3\n",
      "All runs finished. Increase <run_num> if you need to continue to train the model.\n"
     ]
    }
   ],
   "source": [
    "import numpy as np\n",
    "import torch\n",
    "from torch import nn  \n",
    "import time \n",
    "import os  \n",
    "\n",
    "######################################################\n",
    "# common functions to split the training and test data\n",
    "# \n",
    "from NNRTMC_utils import NNRTMC_NN_sw, split_train_test_sample, \\\n",
    "draw_batches, data_std_normalization_sw, print_key_results, return_exp_dir\n",
    "torch.set_float32_matmul_precision('high')\n",
    "\n",
    "######################################################\n",
    "def custom_trainning(NNRTMC_solver, lr, loss, epochs, batch_size, de_save,\n",
    "                     input_torch, output_torch, rsdt_torch,\n",
    "                     indice_train, indice_test, \n",
    "                     eng_loss_frac, device, rng):\n",
    "    # update lr based on test loss\n",
    "    lr_scheduler = torch.optim.lr_scheduler.ReduceLROnPlateau(\n",
    "        NNRTMC_solver.optimizer, mode='min', factor=0.2, patience=50, threshold=1e-3, \n",
    "        threshold_mode='rel', cooldown=50, min_lr=0, eps=1e-08, verbose=True) \n",
    "    NNRTMC_solver.optimizer.param_groups[0]['lr'] = lr\n",
    "    ######################################################\n",
    "    # set training hyperparameter here\n",
    "    ######################################################\n",
    "    sta_time = time.time()\n",
    "    for t in range(epochs): \n",
    "        batch_indice_train = draw_batches(indice_train, batch_size, rng, device, replace=False)\n",
    "        lossv     = NNRTMC_solver.train(batch_indice_train, input_torch, output_torch, rsdt_torch, eng_loss_frac)\n",
    "        lossvtest = NNRTMC_solver.test_loss(indice_test, input_torch,  output_torch, rsdt_torch)\n",
    "        lr_scheduler.step(lossvtest[0]+lossvtest[1]) # update lr based on test loss\n",
    "        if t % de_save == 0:\n",
    "            used_time = time.time() - sta_time  \n",
    "            print( f\"Epoch {t+1:05d} |Train L: {lossv[0]:8.2e} {lossv[1]:8.2e} | Vali. L: {lossvtest[0]:7.1e} {lossvtest[1]:7.1e}  \"\n",
    "                  +f\"| ~ {used_time:3.0f}s | eta {int(used_time*((epochs-t)/de_save/60)) :3d} min\")\n",
    "            sta_time = time.time()\n",
    "            loss.append([[t+1]+lossv+lossvtest]) # append epochs, loss, test loss\n",
    "            # early stop \n",
    "            if NNRTMC_solver.optimizer.param_groups[0]['lr'] < 1e-7:\n",
    "                print(f\"Meet early stop criteria LR = {NNRTMC_solver.optimizer.param_groups[0]['lr']} < 1e-7\" )\n",
    "                print(\"End training\")\n",
    "                break\n",
    "    \n",
    "######################################################\n",
    "def custom_trainning_ens(NNRTMC_solver, lr, loss, epochs, batch_size, de_save,\n",
    "                         input_torch, output_torch, rsdt_torch,\n",
    "                         indice_train, indice_test, \n",
    "                         eng_loss_frac, device, rng):\n",
    "    for mi in range(len(NNRTMC_solver)): \n",
    "        print(f\"Model #{mi}\")\n",
    "        loss_mi = []\n",
    "        custom_trainning(NNRTMC_solver[mi], lr_sta, loss_mi, epochs, batch_size, de_save,\\\n",
    "                         input_torch, output_torch, rsdt_torch,\\\n",
    "                         ind_train, ind_test, eng_loss_frac, device, rng )\n",
    "        loss.append(loss_mi)\n",
    "        \n",
    "######################################################\n",
    "import xarray as xr \n",
    "from get_data_sw_AM4_std import get_data_sw_AM4\n",
    "import argparse, sys\n",
    "\n",
    "if __name__ == '__main__': \n",
    "    torch.cuda.set_device(0) # select gpu_id, default 0 means the first GPU\n",
    "    device = f'cuda:{torch.cuda.current_device()}'\n",
    "    # set random generator\n",
    "    rng = np.random.default_rng(12345)\n",
    "    torch.manual_seed(12345)\n",
    "    # rng = np.random.default_rng()\n",
    "    \n",
    "    #####################################################\n",
    "    # set exp name and runs \n",
    "    # read sky_cond and eng_loss from terminal command\n",
    "    # parser=argparse.ArgumentParser()\n",
    "    # parser.add_argument(\"--sky_cond\", help=\"sky condition: af, csaf\")\n",
    "    # parser.add_argument(\"--eng_loss\", help=\"minimize the energy loss: Y/N\")\n",
    "    # parser.add_argument(\"--ensemble_size\", help=\"ensemble_size of NN models\")\n",
    "    # args=parser.parse_args()\n",
    "    # sky_cond = args.sky_cond\n",
    "    # eng_loss = args.eng_loss \n",
    "    # ensemble_size = int(args.ensemble_size) \n",
    "    # ensemble_num = ensemble_size\n",
    "    sky_cond = 'cs'\n",
    "    sky_cond = 'all'\n",
    "    eng_loss = 'Y'\n",
    "    \n",
    "    hidden_layer_width = 256 \n",
    "    ensemble_num = 2\n",
    "    \n",
    "    Exp_name = f'ens_AM4std_sw_{sky_cond}_LiH4W{hidden_layer_width}Relu_E{eng_loss}' \n",
    "    work_dir = '/tigress/cw55/work/2022_radi_nn/NN_AM4/work/'\n",
    "    total_run_num  = 3\n",
    "    epochs = 200\n",
    "    de_save = 100 \n",
    "    print(f'>>| EXP: {Exp_name} ')\n",
    "    print(f'>>| Ensemble size {ensemble_num} | total_run_num: {total_run_num} | epochs per run: {epochs} ')\n",
    "    \n",
    "    if eng_loss != 'Y':\n",
    "        eng_loss_frac = None\n",
    "    else:\n",
    "        if sky_cond == 'cs':\n",
    "            eng_loss_frac = 1e-4 # lower loss weight for cs?\n",
    "        else:\n",
    "            eng_loss_frac = 1e-4\n",
    "        \n",
    "    ######################################################\n",
    "    # create dir for first run or load restart file\n",
    "    run_num, exp_dir = return_exp_dir(work_dir, Exp_name)\n",
    "    # copy script to experiment dir for reference\n",
    "    try:\n",
    "        ossyscmd = f'cp {os.path.abspath(__file__)} {exp_dir}/train_script{run_num:02d}.py' \n",
    "        os.system(ossyscmd) \n",
    "    except: \n",
    "        print('copy trainscript failed')\n",
    "    model_state_dict = []\n",
    "    # get restart info\n",
    "    if run_num == 1:  \n",
    "        nor_para = None\n",
    "        for mi in range(ensemble_num):\n",
    "            model_state_dict.append(None)\n",
    "        lr_sta = 1e-3\n",
    "    else:   # load restart file\n",
    "        for mi in range(ensemble_num):\n",
    "            PATH_last =  exp_dir+f'/model{mi}_restart.{run_num-1:02d}.pth'\n",
    "            restart_data = torch.load(PATH_last)  # load exist results and restart training\n",
    "            print(f'restart from: {PATH_last}')\n",
    "            # read training dataset, nor_para, model parameteres\n",
    "            nor_para = restart_data['nor_para']\n",
    "            model_state_dict.append(restart_data['model_state_dict'])\n",
    "        lr_sta = 1e-4\n",
    "\n",
    "    ######################################################\n",
    "    # load data from AM4 runs\n",
    "    filelist = [f'/scratch/gpfs/cw55/AM4/work/CTL2000_train_y2000_stellarcpu_intelmpi_22_768PE/'+\n",
    "            f'HISTORY/20000101.atmos_8xdaily.tile{_}.nc' for _ in range(1,7)]\n",
    "    input_array_ori, output_array_ori, rsdt_array_ori = \\\n",
    "    get_data_sw_AM4(filelist, condition=sky_cond, month_sel = None, day_sel = [1,7]) \n",
    "    \n",
    "    hybrid_p_sigma_para = xr.open_dataset('/tigress/cw55/data/NNRTMC_dataset/AM4_pk_bk_202207.nc')\n",
    "    A_k = hybrid_p_sigma_para.ak.values[None,:]\n",
    "    B_k = hybrid_p_sigma_para.bk.values[None,:]\n",
    "    \n",
    "    print(f\"Features| Input: {input_array_ori.shape[1]},  Output: {output_array_ori.shape[1]}\")\n",
    "    nor_para, input_array, output_array, rsdt_array, day_ind = \\\n",
    "    data_std_normalization_sw(input_array_ori, output_array_ori, rsdt_array_ori, nor_para)  \n",
    " \n",
    "\n",
    "    # divide the training and test data here\n",
    "    # this would be different if restart the training process (be careful!)\n",
    "    ind_train, ind_test = split_train_test_sample(output_array.shape[0], test_ratio=0.3, rng=rng) \n",
    "    \n",
    "    ######################################################\n",
    "    # move all data to GPU to accelerate training\n",
    "    input_torch  = torch.tensor(input_array,  dtype=torch.float32).to(device)\n",
    "    output_torch = torch.tensor(output_array, dtype=torch.float32).to(device) \n",
    "    rsdt_torch   = torch.tensor(rsdt_array,   dtype=torch.float32).to(device) \n",
    "    \n",
    "    ######################################################\n",
    "    # initialize model\n",
    "    NNRTMC_solver = []\n",
    "    for mi in range(ensemble_num):\n",
    "        NNRTMC_solver.append(NNRTMC_NN_sw(device, nor_para, A_k, B_k, \n",
    "                             input_array.shape[1], hidden_layer_width, model_state_dict[mi]))\n",
    "    # training \n",
    "    for i in range(run_num, total_run_num+1): \n",
    "        loss = []\n",
    "        batch_size = max(8000, 8000*i**2)\n",
    "        print(f'Train info >> run: {i} lr_sta: {lr_sta:7.1e}, batch size: {batch_size}')\n",
    "        custom_trainning_ens(NNRTMC_solver, lr_sta, loss, epochs, batch_size, de_save,\\\n",
    "                             input_torch, output_torch, rsdt_torch,\\\n",
    "                             ind_train, ind_test, eng_loss_frac, device, rng )\n",
    "        ######################################################\n",
    "        # save model state dict and data normalization info\n",
    "        data_info = filelist\n",
    "        for mi in range(len(NNRTMC_solver)):\n",
    "            loss_array = np.array(loss[mi]).squeeze().T  \n",
    "            PATH =  exp_dir+f'/model{mi}_restart.{i:02d}.pth'\n",
    "            NNRTMC_solver[mi].save_model_restart(PATH, loss_array, data_info, nor_para)\n",
    "            print(f'Model #{mi} is saved at: '+PATH)        \n",
    "            print_key_results(NNRTMC_solver[mi].predict(input_torch[ind_test,:])*rsdt_array[ind_test,None], \n",
    "                              output_array[ind_test,:]*rsdt_array[ind_test,None], \n",
    "                              nor_para)\n",
    "        lr_sta = 1e-4 # reset lr\n",
    "        print(f'{Exp_name} Finished: run {i}!')  \n",
    "        \n",
    "    print('All runs finished. Increase <run_num> if you need to continue to train the model.')\n",
    "\n",
    "    # move slurm log to work dir\n",
    "    job_id = int(os.environ[\"SLURM_JOB_ID\"])\n",
    "    ossyscmd = f'cp slurm-{job_id}.out {exp_dir}/' \n",
    "    print(ossyscmd)\n",
    "    os.system(ossyscmd) \n"
   ]
  },
  {
   "cell_type": "code",
   "execution_count": 2,
   "id": "673db8d1-3704-4fe3-90ca-e6b699015f39",
   "metadata": {
    "execution": {
     "iopub.execute_input": "2023-05-18T17:54:52.077847Z",
     "iopub.status.busy": "2023-05-18T17:54:52.077526Z",
     "iopub.status.idle": "2023-05-18T17:54:52.472763Z",
     "shell.execute_reply": "2023-05-18T17:54:52.472001Z",
     "shell.execute_reply.started": "2023-05-18T17:54:52.077830Z"
    },
    "tags": []
   },
   "outputs": [
    {
     "ename": "NameError",
     "evalue": "name 'loss' is not defined",
     "output_type": "error",
     "traceback": [
      "\u001b[0;31m---------------------------------------------------------------------------\u001b[0m",
      "\u001b[0;31mNameError\u001b[0m                                 Traceback (most recent call last)",
      "Cell \u001b[0;32mIn[2], line 1\u001b[0m\n\u001b[0;32m----> 1\u001b[0m \u001b[38;5;28mlen\u001b[39m(\u001b[43mloss\u001b[49m)\n",
      "\u001b[0;31mNameError\u001b[0m: name 'loss' is not defined"
     ]
    }
   ],
   "source": [
    "len(loss)"
   ]
  },
  {
   "cell_type": "code",
   "execution_count": null,
   "id": "d3953be0-a1d8-4c06-b867-eaf0db32db75",
   "metadata": {
    "execution": {
     "iopub.status.busy": "2023-05-18T17:54:52.473383Z",
     "iopub.status.idle": "2023-05-18T17:54:52.473649Z",
     "shell.execute_reply": "2023-05-18T17:54:52.473538Z",
     "shell.execute_reply.started": "2023-05-18T17:54:52.473526Z"
    }
   },
   "outputs": [],
   "source": [
    "loss[1]"
   ]
  },
  {
   "cell_type": "code",
   "execution_count": null,
   "id": "f618aeae-1758-49c3-8fd5-1fc929ee3611",
   "metadata": {
    "execution": {
     "iopub.status.busy": "2023-05-18T17:54:52.474159Z",
     "iopub.status.idle": "2023-05-18T17:54:52.474372Z",
     "shell.execute_reply": "2023-05-18T17:54:52.474271Z",
     "shell.execute_reply.started": "2023-05-18T17:54:52.474260Z"
    },
    "tags": []
   },
   "outputs": [],
   "source": [
    "loss_array.shape"
   ]
  },
  {
   "cell_type": "code",
   "execution_count": null,
   "id": "127a013e-f579-4876-a1fc-ddc94d780781",
   "metadata": {
    "execution": {
     "iopub.status.busy": "2023-05-18T17:54:52.474980Z",
     "iopub.status.idle": "2023-05-18T17:54:52.475175Z",
     "shell.execute_reply": "2023-05-18T17:54:52.475089Z",
     "shell.execute_reply.started": "2023-05-18T17:54:52.475079Z"
    },
    "tags": []
   },
   "outputs": [],
   "source": [
    "work_dir,Exp_name"
   ]
  },
  {
   "cell_type": "code",
   "execution_count": 3,
   "id": "14025229-1dc6-4203-8559-38a33e9a6a20",
   "metadata": {
    "execution": {
     "iopub.execute_input": "2023-05-18T18:05:49.799934Z",
     "iopub.status.busy": "2023-05-18T18:05:49.799536Z",
     "iopub.status.idle": "2023-05-18T18:05:49.940421Z",
     "shell.execute_reply": "2023-05-18T18:05:49.939821Z",
     "shell.execute_reply.started": "2023-05-18T18:05:49.799916Z"
    },
    "tags": []
   },
   "outputs": [
    {
     "name": "stdout",
     "output_type": "stream",
     "text": [
      "zsh:1: no matches found: /tigress/cw55/work/2022_radi_nn/NN_AM4/work/ens_AM4std_sw_cs_LiH4W256Relu_EY/*\n"
     ]
    }
   ],
   "source": [
    "ls /tigress/cw55/work/2022_radi_nn/NN_AM4/work/ens_AM4std_sw_cs_LiH4W256Relu_EY/*"
   ]
  },
  {
   "cell_type": "code",
   "execution_count": 6,
   "id": "e5e94c98-9a22-42c7-850d-e4d752cd823a",
   "metadata": {
    "execution": {
     "iopub.execute_input": "2023-05-18T18:06:17.379303Z",
     "iopub.status.busy": "2023-05-18T18:06:17.379068Z",
     "iopub.status.idle": "2023-05-18T18:06:17.519794Z",
     "shell.execute_reply": "2023-05-18T18:06:17.519180Z",
     "shell.execute_reply.started": "2023-05-18T18:06:17.379286Z"
    },
    "tags": []
   },
   "outputs": [],
   "source": [
    "rm -rf /tigress/cw55/work/2022_radi_nn/NN_AM4/work/ens_AM4std_sw_cs_LiH4W256Relu_EY"
   ]
  },
  {
   "cell_type": "code",
   "execution_count": 7,
   "id": "44845390-8e44-45d1-8a7b-c054fcaa3e5b",
   "metadata": {
    "execution": {
     "iopub.execute_input": "2023-05-18T18:58:12.006156Z",
     "iopub.status.busy": "2023-05-18T18:58:12.005747Z",
     "iopub.status.idle": "2023-05-18T18:58:12.161171Z",
     "shell.execute_reply": "2023-05-18T18:58:12.160518Z",
     "shell.execute_reply.started": "2023-05-18T18:58:12.006136Z"
    },
    "tags": []
   },
   "outputs": [],
   "source": [
    "rm -rf /tigress/cw55/work/2022_radi_nn/NN_AM4/work/ens_AM4std_sw_*"
   ]
  },
  {
   "cell_type": "code",
   "execution_count": 9,
   "id": "ba672f57-1163-49ac-ac3b-03877fe263b4",
   "metadata": {
    "execution": {
     "iopub.execute_input": "2023-05-18T19:16:39.674802Z",
     "iopub.status.busy": "2023-05-18T19:16:39.674506Z",
     "iopub.status.idle": "2023-05-18T19:16:39.679245Z",
     "shell.execute_reply": "2023-05-18T19:16:39.678882Z",
     "shell.execute_reply.started": "2023-05-18T19:16:39.674782Z"
    },
    "tags": []
   },
   "outputs": [],
   "source": [
    "PATH_last = '/tigress/cw55/work/2022_radi_nn/NN_AM4/work/ens_AM4std_sw_cs_LiH4W256Relu_EN/model0_restart.02.pth'\n",
    "tmp = torch.load(PATH_last)"
   ]
  },
  {
   "cell_type": "code",
   "execution_count": 14,
   "id": "91fca2b8-66fb-4c3d-9936-ba38e6951fca",
   "metadata": {
    "execution": {
     "iopub.execute_input": "2023-05-18T19:17:12.475662Z",
     "iopub.status.busy": "2023-05-18T19:17:12.475368Z",
     "iopub.status.idle": "2023-05-18T19:17:12.479237Z",
     "shell.execute_reply": "2023-05-18T19:17:12.478879Z",
     "shell.execute_reply.started": "2023-05-18T19:17:12.475641Z"
    },
    "tags": []
   },
   "outputs": [
    {
     "data": {
      "text/plain": [
       "array([[1.00000000e+00, 2.10000000e+01, 4.10000000e+01, 6.10000000e+01,\n",
       "        8.10000000e+01, 1.01000000e+02, 1.21000000e+02, 1.41000000e+02,\n",
       "        1.61000000e+02, 1.81000000e+02],\n",
       "       [4.30949993e-04, 4.07543732e-04, 5.19670080e-04, 3.87848238e-04,\n",
       "        5.63142763e-04, 4.56399343e-04, 4.35820431e-04, 3.83213192e-04,\n",
       "        4.44994657e-04, 3.20599793e-04],\n",
       "       [3.77078444e-01, 3.63026768e-01, 3.18618298e-01, 4.14513409e-01,\n",
       "        3.05746168e-01, 3.46673697e-01, 3.60689700e-01, 3.30081195e-01,\n",
       "        3.11797202e-01, 3.30514729e-01],\n",
       "       [7.51745712e-04, 7.53457949e-04, 8.11034581e-04, 6.88744301e-04,\n",
       "        7.56320893e-04, 8.55869497e-04, 8.28392280e-04, 7.59041694e-04,\n",
       "        7.69961218e-04, 6.51918701e-04],\n",
       "       [4.48774874e-01, 4.75223511e-01, 3.76935184e-01, 4.52327996e-01,\n",
       "        4.03892726e-01, 4.17411596e-01, 3.68371159e-01, 3.85017216e-01,\n",
       "        3.99722904e-01, 3.63031209e-01]])"
      ]
     },
     "execution_count": 14,
     "metadata": {},
     "output_type": "execute_result"
    }
   ],
   "source": [
    " "
   ]
  },
  {
   "cell_type": "code",
   "execution_count": null,
   "id": "413f81e7-1190-421f-91a5-06db1d47003b",
   "metadata": {},
   "outputs": [],
   "source": []
  }
 ],
 "metadata": {
  "kernelspec": {
   "display_name": "pytorch20",
   "language": "python",
   "name": "pytorch20"
  },
  "language_info": {
   "codemirror_mode": {
    "name": "ipython",
    "version": 3
   },
   "file_extension": ".py",
   "mimetype": "text/x-python",
   "name": "python",
   "nbconvert_exporter": "python",
   "pygments_lexer": "ipython3",
   "version": "3.10.10"
  },
  "widgets": {
   "application/vnd.jupyter.widget-state+json": {
    "state": {},
    "version_major": 2,
    "version_minor": 0
   }
  }
 },
 "nbformat": 4,
 "nbformat_minor": 5
}
