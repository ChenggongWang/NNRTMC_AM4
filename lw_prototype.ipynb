{
 "cells": [
  {
   "cell_type": "code",
   "execution_count": 1,
   "id": "adf1c818-1c2d-4b0e-9a68-f0b4c67d5461",
   "metadata": {
    "execution": {
     "iopub.execute_input": "2023-01-05T18:59:56.472615Z",
     "iopub.status.busy": "2023-01-05T18:59:56.472490Z",
     "iopub.status.idle": "2023-01-05T18:59:58.025849Z",
     "shell.execute_reply": "2023-01-05T18:59:58.025425Z",
     "shell.execute_reply.started": "2023-01-05T18:59:56.472575Z"
    },
    "tags": []
   },
   "outputs": [],
   "source": [
    "import numpy as np\n",
    "import torch\n",
    "from torch import nn  \n",
    "import time \n",
    "import os  \n",
    "import xarray as xr\n",
    "import subprocess\n",
    "import matplotlib.pyplot as plt\n",
    "from matplotlib import colors\n",
    "import cartopy.crs as ccrs"
   ]
  },
  {
   "cell_type": "code",
   "execution_count": 2,
   "id": "6819283e-491c-4f5b-8358-067c9fc7ec06",
   "metadata": {
    "execution": {
     "iopub.execute_input": "2023-01-05T18:59:58.026658Z",
     "iopub.status.busy": "2023-01-05T18:59:58.026503Z",
     "iopub.status.idle": "2023-01-05T18:59:58.461949Z",
     "shell.execute_reply": "2023-01-05T18:59:58.461520Z",
     "shell.execute_reply.started": "2023-01-05T18:59:58.026642Z"
    },
    "tags": []
   },
   "outputs": [],
   "source": [
    "## import self defined functions\n",
    "from sys import path \n",
    "# insert at 1, 0 is the script path (or '' in REPL)\n",
    "path.insert(1, '/tigress/cw55/local/python_lib')\n",
    "from cg_funcs import global_mean_xarray\n",
    "root = '/tigress/cw55/work/2022_radi_nn/NN_AM4'\n",
    "path.insert(1,  root+'/work')\n",
    "# import work.lw_csaf_Li5Relu_EN.train_script01 as lwcsafen\n",
    "import work.lw_csaf_Li5Relu_EY.train_script01 as lwcsafey \n",
    "# import work.lw_af_Li5Relu_EN.train_script01 as lwafen\n",
    "import work.lw_af_Li5Relu_EY.train_script01 as lwafey "
   ]
  },
  {
   "cell_type": "code",
   "execution_count": 3,
   "id": "69d35949-0d19-4f2e-8b6a-0d76997676a7",
   "metadata": {
    "execution": {
     "iopub.execute_input": "2023-01-05T18:59:58.463662Z",
     "iopub.status.busy": "2023-01-05T18:59:58.463339Z",
     "iopub.status.idle": "2023-01-05T18:59:58.473604Z",
     "shell.execute_reply": "2023-01-05T18:59:58.473268Z",
     "shell.execute_reply.started": "2023-01-05T18:59:58.463645Z"
    },
    "tags": []
   },
   "outputs": [],
   "source": [
    "from get_AM4_data_lw import get_AM4_data_lw\n",
    "######################################################\n",
    "# common functions to split the training and test data\n",
    "from NNRTMC_lw_utils import  split_train_test_sample, \\\n",
    "draw_batches, data_std_normalization, print_key_results, return_exp_dir\n",
    "    \n",
    "from diag_utils import batch_index_sta_end, pred_NN_batch,\\\n",
    "create_6tiles_lw,regrid_6tile2latlon"
   ]
  },
  {
   "cell_type": "code",
   "execution_count": 4,
   "id": "c499ebeb-a7a2-4d5e-be47-140e7e6784e5",
   "metadata": {
    "execution": {
     "iopub.execute_input": "2023-01-05T18:59:58.474352Z",
     "iopub.status.busy": "2023-01-05T18:59:58.474101Z",
     "iopub.status.idle": "2023-01-05T18:59:58.703954Z",
     "shell.execute_reply": "2023-01-05T18:59:58.703557Z",
     "shell.execute_reply.started": "2023-01-05T18:59:58.474337Z"
    },
    "tags": []
   },
   "outputs": [],
   "source": [
    "if __name__ == '__main__': \n",
    "    torch.cuda.set_device(0) # select gpu_id, default 0 means the first GPU\n",
    "    device = f'cuda:{torch.cuda.current_device()}'\n",
    "    ######################################################\n",
    "    # set exp name and runs\n",
    "    Exp_name = [\n",
    "        # 'lw_csaf_Li5Relu_EN',\n",
    "        'lw_csaf_Li5Relu_EY',\n",
    "        # 'lw_af_Li5Relu_EN'  ,\n",
    "        'lw_af_Li5Relu_EY'  ,\n",
    "    ]\n",
    "    Exp_name_model_dict = {\n",
    "        # 'lw_csaf_Li5Relu_EN': lwcsafen,\n",
    "        'lw_csaf_Li5Relu_EY': lwcsafey,\n",
    "        # 'lw_af_Li5Relu_EN'  : lwafen,\n",
    "        'lw_af_Li5Relu_EY'  : lwafey,\n",
    "    }\n",
    "    sky_cond = {\n",
    "        # 'lw_csaf_Li5Relu_EN': 'csaf',\n",
    "        'lw_csaf_Li5Relu_EY': 'csaf',\n",
    "        # 'lw_af_Li5Relu_EN'  : 'af',\n",
    "        'lw_af_Li5Relu_EY'  : 'af',\n",
    "    }\n",
    "    work_dir = root+'/work/' \n",
    "    # file list AM4 runs \n",
    "    out_filelist = [f'/scratch/gpfs/cw55/NNRTMC_data/AM4_v2/20000101.fluxes.tile{_}.nc' for _ in range(1,7)]\n",
    "    inp_filelist = [f'/scratch/gpfs/cw55/NNRTMC_data/AM4_v2/20000101.new_offline_input.tile{_}.nc' for _ in range(1,7)]\n",
    "    out_filelist = [f'/scratch/gpfs/cw55/NNRTMC_data/AM4_v2/20000101.fluxes.tile{_}.nc' for _ in range(1,2)]\n",
    "    inp_filelist = [f'/scratch/gpfs/cw55/NNRTMC_data/AM4_v2/20000101.new_offline_input.tile{_}.nc' for _ in range(1,2)]\n",
    "\n",
    "    hybrid_p_sigma_para = xr.open_dataset('/tigress/cw55/data/NNRTMC_dataset/AM4_pk_bk_202207.nc')\n",
    "    A_k = hybrid_p_sigma_para.ak.values[None,:]\n",
    "    B_k = hybrid_p_sigma_para.bk.values[None,:] "
   ]
  },
  {
   "cell_type": "code",
   "execution_count": 5,
   "id": "631ab6bb-4a35-40d9-8a06-e88e4d476192",
   "metadata": {
    "execution": {
     "iopub.execute_input": "2023-01-05T18:59:58.704879Z",
     "iopub.status.busy": "2023-01-05T18:59:58.704595Z",
     "iopub.status.idle": "2023-01-05T18:59:58.707091Z",
     "shell.execute_reply": "2023-01-05T18:59:58.706749Z",
     "shell.execute_reply.started": "2023-01-05T18:59:58.704861Z"
    },
    "tags": []
   },
   "outputs": [],
   "source": [
    "plt.rcParams['font.size'] = '6'"
   ]
  },
  {
   "cell_type": "code",
   "execution_count": 6,
   "id": "6997962b-beb1-4cf1-ac10-f2f21df3fcf2",
   "metadata": {
    "execution": {
     "iopub.execute_input": "2023-01-05T18:59:58.707800Z",
     "iopub.status.busy": "2023-01-05T18:59:58.707574Z",
     "iopub.status.idle": "2023-01-05T18:59:58.709964Z",
     "shell.execute_reply": "2023-01-05T18:59:58.709642Z",
     "shell.execute_reply.started": "2023-01-05T18:59:58.707787Z"
    },
    "tags": []
   },
   "outputs": [],
   "source": [
    "month_sel = None\n",
    "day_sel = [15,18,21,24,27]\n",
    "month_sel = [1]\n",
    "day_sel = [15]"
   ]
  },
  {
   "cell_type": "code",
   "execution_count": 7,
   "id": "cb3579d2-c136-4683-982e-f75413b89266",
   "metadata": {
    "execution": {
     "iopub.execute_input": "2023-01-05T18:59:58.710621Z",
     "iopub.status.busy": "2023-01-05T18:59:58.710440Z",
     "iopub.status.idle": "2023-01-05T19:00:00.375615Z",
     "shell.execute_reply": "2023-01-05T19:00:00.375230Z",
     "shell.execute_reply.started": "2023-01-05T18:59:58.710607Z"
    },
    "tags": []
   },
   "outputs": [
    {
     "name": "stdout",
     "output_type": "stream",
     "text": [
      "load: /tigress/cw55/work/2022_radi_nn/NN_AM4/work/lw_csaf_Li5Relu_EY/restart.04.pth\n",
      "Data files:\n",
      "['/scratch/gpfs/cw55/NNRTMC_data/AM4_v2/20000101.fluxes.tile1.nc'] ['/scratch/gpfs/cw55/NNRTMC_data/AM4_v2/20000101.new_offline_input.tile1.nc']\n",
      "Data selection:\n",
      "    Month: [1] \n",
      "    Day: [15] \n",
      "Reading data... 0 Done.\n",
      "Total data size: 73728\n",
      "CPU times: user 1.63 s, sys: 556 ms, total: 2.19 s\n",
      "Wall time: 1.66 s\n"
     ]
    }
   ],
   "source": [
    "%%time\n",
    "predi = {}\n",
    "error = {}\n",
    "eng_err = {}\n",
    "NN_model = {}\n",
    "ds_regrid = {}\n",
    "\n",
    "for mo in Exp_name:\n",
    "    ######################################################\n",
    "    # load restart file\n",
    "    run_num, exp_dir = return_exp_dir(work_dir, mo, create_dir=False)\n",
    "    PATH_last =  exp_dir+f'/restart.{run_num-1:02d}.pth'\n",
    "    restart_data = torch.load(PATH_last)  # load exist results and restart training\n",
    "    print(f'load: {PATH_last}')\n",
    "    # read training dataset, nor_para, model parameteres\n",
    "    nor_para = restart_data['nor_para']\n",
    "    model_state_dict = restart_data['model_state_dict']\n",
    "    # read data\n",
    "    input_array_ori, output_array_ori, ds_coords = \\\n",
    "    get_AM4_data_lw(out_filelist, inp_filelist, condition=sky_cond[mo], \n",
    "                    month_sel = month_sel, day_sel = day_sel, return_coords=True) \n",
    "    # initialize model \n",
    "    NN_model[mo] = Exp_name_model_dict[mo].NNRTMC_NN(device, nor_para, A_k, B_k, input_array_ori.shape[1],model_state_dict)  \n",
    " \n",
    "    # normalize data via saved nor_para in restart file\n",
    "    nor_para, input_array, output_array   = data_std_normalization(input_array_ori, output_array_ori, nor_para)\n",
    "    \n",
    "    # try NN on test dataset  \n",
    "    predi[mo], eng_err[mo] = pred_NN_batch(input_array, output_array, NN_model[mo], nor_para, device)\n",
    "    error[mo] = predi[mo] - output_array_ori\n",
    "    predi[mo][:,3:] = predi[mo][:,3:]*86400 # HR K/s >> K/day\n",
    "    error[mo][:,3:] = error[mo][:,3:]*86400 # HR K/s >> K/day\n",
    "    break"
   ]
  },
  {
   "cell_type": "markdown",
   "id": "722a56eb-7eb6-4f29-a9f8-d23fcd59a561",
   "metadata": {},
   "source": [
    "# process NN dict and save parameters"
   ]
  },
  {
   "cell_type": "code",
   "execution_count": 8,
   "id": "96360447-514b-4c10-84c2-e34bb92df21d",
   "metadata": {
    "execution": {
     "iopub.execute_input": "2023-01-05T19:00:00.376842Z",
     "iopub.status.busy": "2023-01-05T19:00:00.376282Z",
     "iopub.status.idle": "2023-01-05T19:00:00.383660Z",
     "shell.execute_reply": "2023-01-05T19:00:00.383324Z",
     "shell.execute_reply.started": "2023-01-05T19:00:00.376825Z"
    },
    "tags": []
   },
   "outputs": [
    {
     "data": {
      "text/plain": [
       "dict_keys(['Res_stack.0.weight', 'Res_stack.0.bias', 'Res_stack.1.weight', 'Res_stack.1.bias', 'Res_stack.1.running_mean', 'Res_stack.1.running_var', 'Res_stack.1.num_batches_tracked', 'Res_stack.3.weight', 'Res_stack.3.bias', 'Res_stack.4.weight', 'Res_stack.4.bias', 'Res_stack.4.running_mean', 'Res_stack.4.running_var', 'Res_stack.4.num_batches_tracked', 'Res_stack.6.weight', 'Res_stack.6.bias', 'Res_stack.7.weight', 'Res_stack.7.bias', 'Res_stack.7.running_mean', 'Res_stack.7.running_var', 'Res_stack.7.num_batches_tracked', 'Res_stack.9.weight', 'Res_stack.9.bias', 'Res_stack.10.weight', 'Res_stack.10.bias', 'Res_stack.10.running_mean', 'Res_stack.10.running_var', 'Res_stack.10.num_batches_tracked', 'Res_stack.12.weight', 'Res_stack.12.bias'])"
      ]
     },
     "execution_count": 8,
     "metadata": {},
     "output_type": "execute_result"
    }
   ],
   "source": [
    "model_state_dict.keys()"
   ]
  },
  {
   "cell_type": "code",
   "execution_count": 9,
   "id": "08b61674-05b0-4811-88b0-fca671981ecf",
   "metadata": {
    "execution": {
     "iopub.execute_input": "2023-01-05T19:00:00.384389Z",
     "iopub.status.busy": "2023-01-05T19:00:00.384180Z",
     "iopub.status.idle": "2023-01-05T19:00:00.387694Z",
     "shell.execute_reply": "2023-01-05T19:00:00.387361Z",
     "shell.execute_reply.started": "2023-01-05T19:00:00.384375Z"
    },
    "tags": []
   },
   "outputs": [],
   "source": [
    "\n",
    "# a specific implement for Li5ReluBN\n",
    "# (Li BN ReLU ) *4 Li\n",
    "def regroup_linear_BN_para(ori_NN_parameters):\n",
    "    new_NN_parameters = []\n",
    "    para_ind = 0\n",
    "    for i in range(4):\n",
    "        tmp = ori_NN_parameters[para_ind+2]/np.sqrt(ori_NN_parameters[para_ind+5] + 1e-5)\n",
    "        new_NN_parameters.append(tmp[:,None]*ori_NN_parameters[para_ind])\n",
    "        new_NN_parameters.append((ori_NN_parameters[para_ind+1]-ori_NN_parameters[para_ind+4])*tmp+ori_NN_parameters[para_ind+3])\n",
    "        para_ind = para_ind+7\n",
    "    new_NN_parameters.append(ori_NN_parameters[para_ind])\n",
    "    new_NN_parameters.append(ori_NN_parameters[para_ind+1])\n",
    "    return new_NN_parameters\n"
   ]
  },
  {
   "cell_type": "code",
   "execution_count": 10,
   "id": "60d3005e-1c1b-46cf-aced-6d45e3b18ed8",
   "metadata": {
    "execution": {
     "iopub.execute_input": "2023-01-05T19:00:00.388531Z",
     "iopub.status.busy": "2023-01-05T19:00:00.388197Z",
     "iopub.status.idle": "2023-01-05T19:00:00.390959Z",
     "shell.execute_reply": "2023-01-05T19:00:00.390616Z",
     "shell.execute_reply.started": "2023-01-05T19:00:00.388516Z"
    },
    "tags": []
   },
   "outputs": [],
   "source": [
    "\n",
    "a_list_of_parameters = [model_state_dict[_].numpy() for _ in model_state_dict.keys()]\n",
    "a_list_of_parameters = regroup_linear_BN_para(a_list_of_parameters)"
   ]
  },
  {
   "cell_type": "markdown",
   "id": "98ebac33-4f6c-433c-be2e-77547b4a9e98",
   "metadata": {
    "tags": []
   },
   "source": [
    "# Prototype function for implement "
   ]
  },
  {
   "cell_type": "code",
   "execution_count": 11,
   "id": "eb547042-c3a6-4dea-a4d5-b0a6702daccb",
   "metadata": {
    "execution": {
     "iopub.execute_input": "2023-01-05T19:00:00.391743Z",
     "iopub.status.busy": "2023-01-05T19:00:00.391497Z",
     "iopub.status.idle": "2023-01-05T19:00:00.395273Z",
     "shell.execute_reply": "2023-01-05T19:00:00.394943Z",
     "shell.execute_reply.started": "2023-01-05T19:00:00.391729Z"
    },
    "tags": []
   },
   "outputs": [],
   "source": [
    "def Rad_NN_activation_function(x):\n",
    "    # ReLU:\n",
    "    if x>0: return x\n",
    "    else: return  np.float32(0)\n",
    "# a specific implement for Li5ReluBN\n",
    "def Rad_NN_pred(NN_parameters, input_X):\n",
    "    # first 4 Linear>Relu>BN\n",
    "    intermediate = np.empty(256)\n",
    "    para_ind = 0\n",
    "    for i in range(4):\n",
    "        # y = x*w+b \n",
    "        if i == 0:  \n",
    "            intermediate = NN_parameters[para_ind] @ input_X.T + NN_parameters[para_ind+1][:,None]\n",
    "        else:\n",
    "            intermediate = NN_parameters[para_ind] @ intermediate + NN_parameters[para_ind+1][:,None]\n",
    "        # y = sigma(y) apply activation function for all nodes\n",
    "        intermediate = np.vectorize(Rad_NN_activation_function)(intermediate)  \n",
    "        # move to next set of para (w,b) from NN \n",
    "        para_ind = para_ind + 2\n",
    "    output_Y = NN_parameters[para_ind] @ intermediate + NN_parameters[para_ind+1][:,None] # y = x*w+b\n",
    "    return output_Y.T"
   ]
  },
  {
   "cell_type": "code",
   "execution_count": 12,
   "id": "d852b267-1192-4aff-8199-706e53267cb6",
   "metadata": {
    "execution": {
     "iopub.execute_input": "2023-01-05T19:00:00.397013Z",
     "iopub.status.busy": "2023-01-05T19:00:00.396758Z",
     "iopub.status.idle": "2023-01-05T19:00:00.399367Z",
     "shell.execute_reply": "2023-01-05T19:00:00.398995Z",
     "shell.execute_reply.started": "2023-01-05T19:00:00.396998Z"
    },
    "tags": []
   },
   "outputs": [
    {
     "name": "stdout",
     "output_type": "stream",
     "text": [
      "(73728, 102) (73728, 36)\n"
     ]
    }
   ],
   "source": [
    "print(input_array.shape,output_array.shape)\n",
    "input_X = input_array[:300,:]\n",
    "output_Y = output_array[:300,:] "
   ]
  },
  {
   "cell_type": "code",
   "execution_count": 13,
   "id": "01fff25c-25ff-4c20-85aa-92ce15e1259a",
   "metadata": {
    "execution": {
     "iopub.execute_input": "2023-01-05T19:00:00.400112Z",
     "iopub.status.busy": "2023-01-05T19:00:00.399849Z",
     "iopub.status.idle": "2023-01-05T19:00:00.498319Z",
     "shell.execute_reply": "2023-01-05T19:00:00.497925Z",
     "shell.execute_reply.started": "2023-01-05T19:00:00.400098Z"
    },
    "tags": []
   },
   "outputs": [],
   "source": [
    "# results from pytorch\n",
    "NN_pred1 = NN_model[mo].predict(torch.tensor(input_X).to(device)).cpu().numpy()\n",
    "# results from prototype function\n",
    "NN_pred2 = Rad_NN_pred(a_list_of_parameters, input_X)"
   ]
  },
  {
   "cell_type": "code",
   "execution_count": 15,
   "id": "129fba4b-4c40-41d5-90ef-9f0810914a36",
   "metadata": {
    "execution": {
     "iopub.execute_input": "2023-01-05T19:04:54.442597Z",
     "iopub.status.busy": "2023-01-05T19:04:54.442385Z",
     "iopub.status.idle": "2023-01-05T19:04:54.446564Z",
     "shell.execute_reply": "2023-01-05T19:04:54.446234Z",
     "shell.execute_reply.started": "2023-01-05T19:04:54.442580Z"
    },
    "tags": []
   },
   "outputs": [
    {
     "data": {
      "text/plain": [
       "array([3.8300288e-07, 6.3589977e-07, 5.5322863e-07, 2.2787182e-07,\n",
       "       3.0507857e-07, 4.9270773e-07, 4.1362333e-07, 3.4659183e-07,\n",
       "       3.5326934e-07, 5.4356229e-07, 7.1080552e-07, 1.4992122e-06,\n",
       "       7.1352912e-07, 5.2024774e-07, 8.4973902e-07, 5.2025030e-07,\n",
       "       4.2171934e-07, 4.7106175e-07, 5.8741665e-07, 5.4361800e-07,\n",
       "       5.3361902e-07, 6.8633005e-07, 5.8288930e-07, 4.3927122e-07,\n",
       "       4.8868583e-07, 5.3402482e-07, 4.9524471e-07, 4.1708316e-07,\n",
       "       5.1602080e-07, 3.7395199e-07, 5.6597230e-07, 6.4413018e-07,\n",
       "       8.6686998e-07, 7.1540325e-07, 7.7731954e-07, 8.2777575e-07],\n",
       "      dtype=float32)"
      ]
     },
     "execution_count": 15,
     "metadata": {},
     "output_type": "execute_result"
    }
   ],
   "source": [
    "abs(NN_pred1 - NN_pred2).mean(axis=0)/abs(NN_pred1 + NN_pred2).mean(axis=0)"
   ]
  },
  {
   "cell_type": "code",
   "execution_count": null,
   "id": "500ce0c1-9a8a-43c4-85c0-dadd4001dd2a",
   "metadata": {},
   "outputs": [],
   "source": []
  }
 ],
 "metadata": {
  "kernelspec": {
   "display_name": "pytorch",
   "language": "python",
   "name": "pytorch"
  },
  "language_info": {
   "codemirror_mode": {
    "name": "ipython",
    "version": 3
   },
   "file_extension": ".py",
   "mimetype": "text/x-python",
   "name": "python",
   "nbconvert_exporter": "python",
   "pygments_lexer": "ipython3",
   "version": "3.10.4"
  }
 },
 "nbformat": 4,
 "nbformat_minor": 5
}
