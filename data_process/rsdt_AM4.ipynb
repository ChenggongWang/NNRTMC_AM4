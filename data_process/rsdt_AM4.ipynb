{
 "cells": [
  {
   "cell_type": "code",
   "execution_count": 1,
   "id": "f69913dc-654b-45d3-bc71-2d48cf62b36c",
   "metadata": {
    "execution": {
     "iopub.execute_input": "2023-03-14T17:03:33.097452Z",
     "iopub.status.busy": "2023-03-14T17:03:33.097060Z",
     "iopub.status.idle": "2023-03-14T17:03:34.733211Z",
     "shell.execute_reply": "2023-03-14T17:03:34.732227Z",
     "shell.execute_reply.started": "2023-03-14T17:03:33.097393Z"
    },
    "tags": []
   },
   "outputs": [],
   "source": [
    "import matplotlib.pyplot as plt\n",
    "import xarray as xr\n",
    "import numpy as np \n",
    "import pickle\n",
    "\n",
    "from sklearn.decomposition import PCA"
   ]
  },
  {
   "cell_type": "code",
   "execution_count": 2,
   "id": "322f2cff-8ffb-4fd3-b7db-a364b2702665",
   "metadata": {
    "execution": {
     "iopub.execute_input": "2023-03-14T17:03:34.734916Z",
     "iopub.status.busy": "2023-03-14T17:03:34.734536Z",
     "iopub.status.idle": "2023-03-14T17:03:34.738269Z",
     "shell.execute_reply": "2023-03-14T17:03:34.737701Z",
     "shell.execute_reply.started": "2023-03-14T17:03:34.734896Z"
    },
    "tags": []
   },
   "outputs": [],
   "source": [
    "from get_AM4_data_sw import get_AM4_data_sw"
   ]
  },
  {
   "cell_type": "code",
   "execution_count": 3,
   "id": "2c43e6f3-f87a-46ec-9952-a8a4487935ac",
   "metadata": {
    "execution": {
     "iopub.execute_input": "2023-03-14T17:03:34.739194Z",
     "iopub.status.busy": "2023-03-14T17:03:34.739010Z",
     "iopub.status.idle": "2023-03-14T17:03:34.748711Z",
     "shell.execute_reply": "2023-03-14T17:03:34.748110Z",
     "shell.execute_reply.started": "2023-03-14T17:03:34.739177Z"
    },
    "tags": []
   },
   "outputs": [
    {
     "data": {
      "text/plain": [
       "(['./AM4_v1/20000101.new_offline_input.tile1.nc',\n",
       "  './AM4_v1/20000101.new_offline_input.tile2.nc',\n",
       "  './AM4_v1/20000101.new_offline_input.tile3.nc',\n",
       "  './AM4_v1/20000101.new_offline_input.tile4.nc',\n",
       "  './AM4_v1/20000101.new_offline_input.tile5.nc',\n",
       "  './AM4_v1/20000101.new_offline_input.tile6.nc'],\n",
       " ['./AM4_v1/20000101.fluxes.tile1.nc',\n",
       "  './AM4_v1/20000101.fluxes.tile2.nc',\n",
       "  './AM4_v1/20000101.fluxes.tile3.nc',\n",
       "  './AM4_v1/20000101.fluxes.tile4.nc',\n",
       "  './AM4_v1/20000101.fluxes.tile5.nc',\n",
       "  './AM4_v1/20000101.fluxes.tile6.nc'])"
      ]
     },
     "execution_count": 3,
     "metadata": {},
     "output_type": "execute_result"
    }
   ],
   "source": [
    "out_filelist = [f'./AM4_v1/20000101.fluxes.tile{_}.nc' for _ in range(1,7)]\n",
    "inp_filelist = [f'./AM4_v1/20000101.new_offline_input.tile{_}.nc' for _ in range(1,7)]\n",
    "# out_filelist = [f'/scratch/gpfs/rm5768/ml/20000101.fluxes.tile{_}.nc' for _ in range(1,7)]\n",
    "# inp_filelist = [f'/scratch/gpfs/rm5768/ml/20000101.new_offline_input.tile{_}.nc' for _ in range(1,7)]\n",
    "inp_filelist, out_filelist"
   ]
  },
  {
   "cell_type": "code",
   "execution_count": 22,
   "id": "245bd341-2103-4425-b6b2-22f3724d102c",
   "metadata": {
    "execution": {
     "iopub.execute_input": "2023-03-14T17:12:41.092715Z",
     "iopub.status.busy": "2023-03-14T17:12:41.092344Z",
     "iopub.status.idle": "2023-03-14T17:12:45.004005Z",
     "shell.execute_reply": "2023-03-14T17:12:45.003386Z",
     "shell.execute_reply.started": "2023-03-14T17:12:41.092692Z"
    },
    "tags": []
   },
   "outputs": [],
   "source": [
    "test_out = xr.open_mfdataset(out_filelist[1])\n",
    "test_inp = xr.open_mfdataset(inp_filelist[1])\n",
    "# test_out['rsd'].isel(phalf=-1).mean()"
   ]
  },
  {
   "cell_type": "code",
   "execution_count": 19,
   "id": "4d15d632-f841-43e0-943b-e99402cc9cd7",
   "metadata": {
    "execution": {
     "iopub.execute_input": "2023-03-14T17:09:26.477573Z",
     "iopub.status.busy": "2023-03-14T17:09:26.477163Z",
     "iopub.status.idle": "2023-03-14T17:09:39.308999Z",
     "shell.execute_reply": "2023-03-14T17:09:39.306898Z",
     "shell.execute_reply.started": "2023-03-14T17:09:26.477551Z"
    },
    "tags": []
   },
   "outputs": [],
   "source": [
    "rsdt = test_out['rsd'].isel(phalf=0)[:10,:,:].load()"
   ]
  },
  {
   "cell_type": "code",
   "execution_count": 23,
   "id": "695ab58a-9e72-457c-b3d6-89d5395954c8",
   "metadata": {
    "execution": {
     "iopub.execute_input": "2023-03-14T17:12:48.476669Z",
     "iopub.status.busy": "2023-03-14T17:12:48.476304Z",
     "iopub.status.idle": "2023-03-14T17:14:44.480234Z",
     "shell.execute_reply": "2023-03-14T17:14:44.479616Z",
     "shell.execute_reply.started": "2023-03-14T17:12:48.476647Z"
    },
    "tags": []
   },
   "outputs": [],
   "source": [
    "cosz = test_inp.cosine_zenith[:10,:,:].load()\n",
    "rrsun = test_inp.earth_sun_distance_fraction[:10].load()\n",
    "solarc = test_inp.solar_constant[:10].load()\n",
    "dayfrac = test_inp.daylight_fraction[:10].load()"
   ]
  },
  {
   "cell_type": "code",
   "execution_count": 31,
   "id": "650de84d-5008-4de3-a813-d0757b9c4419",
   "metadata": {
    "execution": {
     "iopub.execute_input": "2023-03-14T17:16:30.144527Z",
     "iopub.status.busy": "2023-03-14T17:16:30.144161Z",
     "iopub.status.idle": "2023-03-14T17:16:30.147710Z",
     "shell.execute_reply": "2023-03-14T17:16:30.147075Z",
     "shell.execute_reply.started": "2023-03-14T17:16:30.144506Z"
    },
    "tags": []
   },
   "outputs": [],
   "source": [
    "nlat = 50\n",
    "nlon = 50"
   ]
  },
  {
   "cell_type": "code",
   "execution_count": 61,
   "id": "92a40c62-504d-40f9-add9-b563ac47e963",
   "metadata": {
    "execution": {
     "iopub.execute_input": "2023-03-14T17:22:45.421003Z",
     "iopub.status.busy": "2023-03-14T17:22:45.420566Z",
     "iopub.status.idle": "2023-03-14T17:22:45.426302Z",
     "shell.execute_reply": "2023-03-14T17:22:45.425740Z",
     "shell.execute_reply.started": "2023-03-14T17:22:45.420981Z"
    },
    "tags": []
   },
   "outputs": [],
   "source": [
    "rsdt_cal = (solarc*rrsun*cosz[:,nlat,nlon]).values.flatten()\n",
    "rsdt_tru = rsdt[:,nlat,nlon].values.flatten()\n"
   ]
  },
  {
   "cell_type": "code",
   "execution_count": 62,
   "id": "db4e6dd1-dcdb-4b59-af37-95be522287eb",
   "metadata": {
    "execution": {
     "iopub.execute_input": "2023-03-14T17:22:45.822845Z",
     "iopub.status.busy": "2023-03-14T17:22:45.822444Z",
     "iopub.status.idle": "2023-03-14T17:22:45.827441Z",
     "shell.execute_reply": "2023-03-14T17:22:45.826852Z",
     "shell.execute_reply.started": "2023-03-14T17:22:45.822825Z"
    },
    "tags": []
   },
   "outputs": [
    {
     "data": {
      "text/plain": [
       "(array([ 695.4961 , 1244.2494 , 1049.544  ,  225.33765,    0.     ,\n",
       "           0.     ,    0.     ,    0.     ,  696.0208 , 1245.1199 ],\n",
       "       dtype=float32),\n",
       " array([ 695.49603, 1244.2493 , 1049.5438 ,  225.33768,    0.     ,\n",
       "           0.     ,    0.     ,    0.     ,  696.0209 , 1245.1199 ],\n",
       "       dtype=float32))"
      ]
     },
     "execution_count": 62,
     "metadata": {},
     "output_type": "execute_result"
    }
   ],
   "source": [
    "rsdt_cal,rsdt_tru"
   ]
  },
  {
   "cell_type": "code",
   "execution_count": 63,
   "id": "02e87650-2659-417b-973c-ec41565b1ce8",
   "metadata": {
    "execution": {
     "iopub.execute_input": "2023-03-14T17:22:46.324912Z",
     "iopub.status.busy": "2023-03-14T17:22:46.324577Z",
     "iopub.status.idle": "2023-03-14T17:22:46.329752Z",
     "shell.execute_reply": "2023-03-14T17:22:46.329190Z",
     "shell.execute_reply.started": "2023-03-14T17:22:46.324894Z"
    },
    "tags": []
   },
   "outputs": [
    {
     "name": "stderr",
     "output_type": "stream",
     "text": [
      "/home/cw55/anaconda3/envs/cg37/lib/python3.7/site-packages/ipykernel_launcher.py:1: RuntimeWarning: invalid value encountered in true_divide\n",
      "  \"\"\"Entry point for launching an IPython kernel.\n"
     ]
    },
    {
     "data": {
      "text/plain": [
       "array([1.0000001 , 1.0000001 , 1.0000001 , 0.9999999 ,        nan,\n",
       "              nan,        nan,        nan, 0.99999994, 1.        ],\n",
       "      dtype=float32)"
      ]
     },
     "execution_count": 63,
     "metadata": {},
     "output_type": "execute_result"
    }
   ],
   "source": [
    "rsdt_cal/rsdt_tru"
   ]
  },
  {
   "cell_type": "code",
   "execution_count": 92,
   "id": "3ecadf67-0166-49e1-b3a5-8ae88c1e678d",
   "metadata": {
    "execution": {
     "iopub.execute_input": "2023-03-14T17:34:18.318618Z",
     "iopub.status.busy": "2023-03-14T17:34:18.318236Z",
     "iopub.status.idle": "2023-03-14T17:34:18.327583Z",
     "shell.execute_reply": "2023-03-14T17:34:18.326746Z",
     "shell.execute_reply.started": "2023-03-14T17:34:18.318596Z"
    },
    "tags": []
   },
   "outputs": [],
   "source": [
    "ntime=3\n",
    "rsdt_cal = solarc[ntime]*rrsun[ntime]*cosz[ntime,:,:]*dayfrac[ntime,:,:]\n",
    "rsdt_tru = rsdt[ntime,:,:]"
   ]
  },
  {
   "cell_type": "code",
   "execution_count": 93,
   "id": "4f8b18c6-c810-4c2c-a6ec-4f3d18175440",
   "metadata": {
    "execution": {
     "iopub.execute_input": "2023-03-14T17:34:18.917661Z",
     "iopub.status.busy": "2023-03-14T17:34:18.917298Z",
     "iopub.status.idle": "2023-03-14T17:34:19.373436Z",
     "shell.execute_reply": "2023-03-14T17:34:19.372548Z",
     "shell.execute_reply.started": "2023-03-14T17:34:18.917639Z"
    },
    "tags": []
   },
   "outputs": [
    {
     "data": {
      "image/png": "[encoded data removed]",
      "text/plain": [
       "<Figure size 1000x300 with 6 Axes>"
      ]
     },
     "metadata": {
      "needs_background": "light"
     },
     "output_type": "display_data"
    }
   ],
   "source": [
    "fig, axs = plt.subplots(nrows=1, ncols=3, figsize=(10,3),dpi=100) \n",
    "nlevels = 10\n",
    "rsdt_cal.plot(ax = axs[0],levels=nlevels)\n",
    "rsdt_tru.plot(ax = axs[1],levels=nlevels)\n",
    "(rsdt_cal-rsdt_tru).plot(ax = axs[2],levels=nlevels)\n",
    "fig.tight_layout()\n",
    "fig.show()\n"
   ]
  },
  {
   "cell_type": "code",
   "execution_count": null,
   "id": "b34cdf3e-192b-4a95-8c2c-b95d5f72a34e",
   "metadata": {},
   "outputs": [],
   "source": []
  }
 ],
 "metadata": {
  "kernelspec": {
   "display_name": "cg_pytorch [~/.conda/envs/cg_pytorch/]",
   "language": "python",
   "name": "conda_cg_pytorch"
  },
  "language_info": {
   "codemirror_mode": {
    "name": "ipython",
    "version": 3
   },
   "file_extension": ".py",
   "mimetype": "text/x-python",
   "name": "python",
   "nbconvert_exporter": "python",
   "pygments_lexer": "ipython3",
   "version": "3.10.4"
  },
  "widgets": {
   "application/vnd.jupyter.widget-state+json": {
    "state": {},
    "version_major": 2,
    "version_minor": 0
   }
  }
 },
 "nbformat": 4,
 "nbformat_minor": 5
}
