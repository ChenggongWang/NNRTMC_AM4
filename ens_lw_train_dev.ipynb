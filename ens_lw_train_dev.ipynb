{
 "cells": [
  {
   "cell_type": "code",
   "execution_count": 1,
   "id": "89aaa5b2-0ab5-451f-aa1b-66d6ff4bf444",
   "metadata": {
    "execution": {
     "iopub.execute_input": "2023-05-19T01:03:56.747322Z",
     "iopub.status.busy": "2023-05-19T01:03:56.747113Z",
     "iopub.status.idle": "2023-05-19T01:08:43.722458Z",
     "shell.execute_reply": "2023-05-19T01:08:43.721829Z",
     "shell.execute_reply.started": "2023-05-19T01:03:56.747306Z"
    },
    "tags": []
   },
   "outputs": [
    {
     "name": "stdout",
     "output_type": "stream",
     "text": [
      ">>| EXP: ens_AM4std_lw_cs_LiH4W256Relu_EY \n",
      ">>| Ensemble size 2 | total_run_num: 2 | epochs per run: 200 \n",
      "copy trainscript failed\n",
      "Data files:\n",
      "['/scratch/gpfs/cw55/AM4/work/CTL2000_train_y2000_stellarcpu_intelmpi_22_768PE/HISTORY/20000101.atmos_8xdaily.tile1.nc', '/scratch/gpfs/cw55/AM4/work/CTL2000_train_y2000_stellarcpu_intelmpi_22_768PE/HISTORY/20000101.atmos_8xdaily.tile2.nc', '/scratch/gpfs/cw55/AM4/work/CTL2000_train_y2000_stellarcpu_intelmpi_22_768PE/HISTORY/20000101.atmos_8xdaily.tile3.nc', '/scratch/gpfs/cw55/AM4/work/CTL2000_train_y2000_stellarcpu_intelmpi_22_768PE/HISTORY/20000101.atmos_8xdaily.tile4.nc', '/scratch/gpfs/cw55/AM4/work/CTL2000_train_y2000_stellarcpu_intelmpi_22_768PE/HISTORY/20000101.atmos_8xdaily.tile5.nc', '/scratch/gpfs/cw55/AM4/work/CTL2000_train_y2000_stellarcpu_intelmpi_22_768PE/HISTORY/20000101.atmos_8xdaily.tile6.nc']\n",
      "Data selection:\n",
      "    Month: [1, 7] \n",
      "    Day: [1, 7] \n",
      "Reading data... 0 1 2 3 4 5 \n",
      "Read data done. Use time:  48s\n",
      "Features| Input: 101,  Output: 35\n",
      "Total data size: 1769472\n",
      "Total data size: 1769472\n",
      "Test data ratio: 0.3\n",
      "Train info >> run: 1 lr_sta: 1.0e-03, batch size: 8000\n",
      "Model #0\n",
      "Epoch 00001 |Train L: 1.36e-01 9.18e+01 | Vali. L: 1.4e-01 1.5e+02  | ~   1s | eta   0 min\n",
      "Epoch 00051 |Train L: 7.35e-03 4.03e+00 | Vali. L: 1.2e-02 8.1e+00  | ~  21s | eta   1 min\n",
      "Epoch 00101 |Train L: 3.43e-03 2.26e+00 | Vali. L: 7.5e-03 6.2e+00  | ~  21s | eta   0 min\n",
      "Epoch 00147: reducing learning rate of group 0 to 2.0000e-04.\n",
      "Epoch 00151 |Train L: 1.62e-03 1.58e+00 | Vali. L: 3.2e-03 2.4e+00  | ~  21s | eta   0 min\n",
      "Model #1\n",
      "Epoch 00001 |Train L: 1.37e-01 9.98e+01 | Vali. L: 1.5e-01 2.1e+02  | ~   0s | eta   0 min\n",
      "Epoch 00051 |Train L: 8.06e-03 9.59e+00 | Vali. L: 1.4e-02 8.7e+00  | ~  21s | eta   1 min\n",
      "Epoch 00101 |Train L: 4.74e-03 1.13e+01 | Vali. L: 9.6e-03 7.4e+00  | ~  21s | eta   0 min\n",
      "Epoch 00151 |Train L: 3.40e-03 5.64e+00 | Vali. L: 7.6e-03 2.8e+01  | ~  21s | eta   0 min\n",
      "Model #0 is saved at: /tigress/cw55/work/2022_radi_nn/NN_AM4/work/ens_AM4std_lw_cs_LiH4W256Relu_EY/model0_restart.01.pth\n",
      "Validation: RMSE\n",
      "[ 1.77e+00  1.31e+00  1.51e-01  5.31e-02  3.18e-02  2.34e-02  2.34e-02\n",
      "  2.63e-02  2.01e-02  1.70e-02  1.86e-02  1.75e-02  8.32e-03  1.24e-02\n",
      "  2.21e-02  3.30e-02  3.11e-02  3.19e-02  3.94e-02  4.31e-02  5.24e-02\n",
      "  4.28e-02  5.31e-02  4.77e-02  6.85e-02  5.07e-02  6.06e-02  5.33e-02\n",
      "  6.64e-02  7.25e-02  7.39e-02  8.41e-02  1.02e-01  2.32e-01  3.52e-01]\n",
      "Validation:       MAE\n",
      "[ 1.37e+00  8.42e-01  9.12e-02  2.89e-02  1.97e-02  1.44e-02  1.40e-02\n",
      "  1.48e-02  1.10e-02  9.48e-03  8.18e-03  9.01e-03  5.47e-03  9.64e-03\n",
      "  1.58e-02  2.53e-02  2.28e-02  2.10e-02  2.86e-02  3.29e-02  3.82e-02\n",
      "  2.92e-02  3.72e-02  2.89e-02  5.08e-02  3.07e-02  4.28e-02  3.27e-02\n",
      "  3.69e-02  5.00e-02  3.73e-02  4.17e-02  5.06e-02  9.90e-02  1.64e-01]\n",
      "Validation:            Bias\n",
      "[ 1.65e-01  1.02e-01  5.68e-02  8.97e-03  5.77e-03 -8.61e-04  2.74e-03\n",
      "  6.07e-03  6.66e-03  1.56e-03 -3.71e-03 -4.97e-03  6.39e-04 -3.80e-03\n",
      "  6.70e-03  1.29e-02 -4.96e-04  2.68e-03  1.58e-02  2.01e-02  5.05e-03\n",
      " -8.99e-03 -2.01e-02  2.89e-03 -2.39e-02  1.43e-02  1.97e-02 -1.25e-03\n",
      "  2.44e-02  2.53e-02  1.22e-02  2.45e-02  2.72e-02  6.93e-02  7.08e-02]\n",
      "Model #1 is saved at: /tigress/cw55/work/2022_radi_nn/NN_AM4/work/ens_AM4std_lw_cs_LiH4W256Relu_EY/model1_restart.01.pth\n",
      "Validation: RMSE\n",
      "[ 2.32e+00  1.94e+00  2.81e-01  6.88e-02  6.51e-02  3.81e-02  5.10e-02\n",
      "  4.26e-02  2.99e-02  3.70e-02  3.41e-02  1.99e-02  1.65e-02  2.08e-02\n",
      "  3.19e-02  5.03e-02  3.73e-02  6.58e-02  5.84e-02  5.47e-02  7.16e-02\n",
      "  7.70e-02  7.47e-02  6.36e-02  7.15e-02  6.97e-02  6.80e-02  6.38e-02\n",
      "  8.31e-02  8.78e-02  1.18e-01  1.18e-01  1.32e-01  2.34e-01  4.23e-01]\n",
      "Validation:       MAE\n",
      "[ 1.94e+00  1.11e+00  2.40e-01  5.04e-02  5.73e-02  2.95e-02  3.92e-02\n",
      "  3.03e-02  2.29e-02  2.47e-02  2.63e-02  1.29e-02  1.17e-02  1.57e-02\n",
      "  2.53e-02  4.18e-02  2.83e-02  5.35e-02  4.65e-02  3.50e-02  5.52e-02\n",
      "  5.85e-02  5.38e-02  4.20e-02  4.73e-02  5.02e-02  5.03e-02  4.16e-02\n",
      "  5.78e-02  6.12e-02  8.63e-02  7.02e-02  7.66e-02  1.30e-01  2.34e-01]\n",
      "Validation:            Bias\n",
      "[ 1.86e+00  1.46e-01  2.16e-01  4.08e-02  5.13e-02  2.14e-02  2.81e-02\n",
      "  2.48e-02  1.28e-02  1.58e-02  2.01e-02  5.48e-03  7.90e-03 -9.41e-04\n",
      "  2.11e-02  2.67e-02 -9.56e-03 -4.85e-02 -3.54e-02  1.48e-02  4.20e-02\n",
      "  3.41e-02 -9.94e-03  1.40e-02  1.84e-02  3.18e-02  5.14e-03  1.43e-02\n",
      " -4.15e-02 -4.79e-02  5.45e-02  2.68e-02 -2.07e-02  1.25e-02  7.23e-02]\n",
      "ens_AM4std_lw_cs_LiH4W256Relu_EY Finished: run 1!\n",
      "Train info >> run: 2 lr_sta: 1.0e-04, batch size: 32000\n",
      "Model #0\n",
      "Epoch 00001 |Train L: 9.05e-04 3.37e-01 | Vali. L: 2.7e-03 1.6e+00  | ~   0s | eta   0 min\n",
      "Epoch 00051 |Train L: 9.11e-04 8.32e-01 | Vali. L: 2.8e-03 2.0e+00  | ~   8s | eta   0 min\n",
      "Epoch 00101 |Train L: 9.95e-04 5.92e-01 | Vali. L: 2.8e-03 2.2e+00  | ~   8s | eta   0 min\n",
      "Epoch 00110: reducing learning rate of group 0 to 2.0000e-05.\n",
      "Epoch 00151 |Train L: 7.82e-04 2.39e-01 | Vali. L: 2.7e-03 1.6e+00  | ~   8s | eta   0 min\n",
      "Model #1\n",
      "Epoch 00001 |Train L: 1.09e-03 8.17e-01 | Vali. L: 3.2e-03 4.7e+00  | ~   0s | eta   0 min\n",
      "Epoch 00051 |Train L: 8.44e-04 3.93e-01 | Vali. L: 3.1e-03 3.6e+00  | ~   8s | eta   0 min\n",
      "Epoch 00101 |Train L: 9.59e-04 1.12e+00 | Vali. L: 3.0e-03 3.8e+00  | ~   8s | eta   0 min\n",
      "Epoch 00141: reducing learning rate of group 0 to 2.0000e-05.\n",
      "Epoch 00151 |Train L: 6.98e-04 3.57e-01 | Vali. L: 2.8e-03 3.6e+00  | ~   8s | eta   0 min\n",
      "Model #0 is saved at: /tigress/cw55/work/2022_radi_nn/NN_AM4/work/ens_AM4std_lw_cs_LiH4W256Relu_EY/model0_restart.02.pth\n",
      "Validation: RMSE\n",
      "[ 9.41e-01  1.02e+00  1.33e-01  4.12e-02  2.63e-02  1.82e-02  2.18e-02\n",
      "  2.29e-02  1.67e-02  1.40e-02  1.83e-02  1.42e-02  7.29e-03  9.54e-03\n",
      "  1.78e-02  2.34e-02  2.97e-02  3.10e-02  3.07e-02  3.41e-02  4.02e-02\n",
      "  3.93e-02  4.60e-02  5.01e-02  5.23e-02  5.31e-02  5.37e-02  4.69e-02\n",
      "  6.08e-02  5.07e-02  6.65e-02  7.47e-02  1.00e-01  2.31e-01  3.10e-01]\n",
      "Validation:       MAE\n",
      "[ 6.48e-01  6.40e-01  5.01e-02  2.00e-02  1.42e-02  1.01e-02  1.03e-02\n",
      "  9.91e-03  8.44e-03  7.64e-03  7.46e-03  6.79e-03  4.35e-03  6.76e-03\n",
      "  1.24e-02  1.66e-02  1.88e-02  1.90e-02  1.96e-02  2.19e-02  2.29e-02\n",
      "  2.31e-02  2.47e-02  2.50e-02  2.53e-02  2.46e-02  2.44e-02  2.31e-02\n",
      "  2.44e-02  2.34e-02  2.56e-02  2.79e-02  3.66e-02  6.61e-02  8.96e-02]\n",
      "Validation:            Bias\n",
      "[ 1.62e-02 -8.44e-02  2.30e-02  3.57e-03  4.22e-03 -1.16e-03  1.16e-03\n",
      " -5.85e-04  3.91e-04 -1.49e-03 -3.26e-03 -2.82e-03 -2.86e-04 -6.78e-04\n",
      " -6.96e-04  2.53e-04  2.52e-03  1.83e-03  1.42e-03  2.96e-04  1.65e-03\n",
      "  5.28e-03  2.39e-04 -3.64e-03  4.43e-03  6.76e-03  8.44e-03 -7.63e-03\n",
      "  6.57e-03  1.83e-03  1.23e-03  3.50e-03  1.50e-03 -2.90e-03 -2.31e-02]\n",
      "Model #1 is saved at: /tigress/cw55/work/2022_radi_nn/NN_AM4/work/ens_AM4std_lw_cs_LiH4W256Relu_EY/model1_restart.02.pth\n",
      "Validation: RMSE\n",
      "[ 9.52e-01  1.22e+00  9.18e-02  3.45e-02  2.10e-02  1.84e-02  3.03e-02\n",
      "  2.46e-02  1.87e-02  2.23e-02  1.80e-02  1.63e-02  9.77e-03  1.19e-02\n",
      "  1.75e-02  2.28e-02  2.67e-02  2.63e-02  3.22e-02  5.80e-02  6.30e-02\n",
      "  3.37e-02  4.98e-02  6.14e-02  4.58e-02  4.07e-02  4.20e-02  4.55e-02\n",
      "  5.40e-02  5.78e-02  6.19e-02  7.99e-02  1.13e-01  1.88e-01  3.22e-01]\n",
      "Validation:       MAE\n",
      "[ 6.27e-01  6.03e-01  4.19e-02  1.65e-02  1.26e-02  1.07e-02  1.23e-02\n",
      "  1.05e-02  8.86e-03  7.67e-03  6.99e-03  6.16e-03  4.43e-03  6.84e-03\n",
      "  1.20e-02  1.61e-02  1.87e-02  1.80e-02  1.94e-02  2.40e-02  2.46e-02\n",
      "  2.09e-02  2.33e-02  2.46e-02  2.36e-02  2.17e-02  2.11e-02  2.14e-02\n",
      "  2.21e-02  2.29e-02  2.36e-02  2.68e-02  3.42e-02  5.38e-02  7.92e-02]\n",
      "Validation:            Bias\n",
      "[ 9.29e-02 -3.66e-03  1.66e-02 -1.67e-03  5.01e-03  4.36e-04  3.96e-03\n",
      "  3.94e-03  3.87e-03 -1.33e-03  1.16e-04 -2.24e-03 -3.08e-04 -1.86e-03\n",
      " -3.83e-03 -6.41e-03  6.58e-03 -2.29e-03 -7.01e-04  7.94e-03  5.78e-03\n",
      " -3.60e-03 -2.11e-03 -6.34e-03 -3.16e-03 -8.15e-04 -3.99e-04  3.58e-03\n",
      "  2.23e-03 -1.40e-05  3.90e-03  1.53e-03  4.86e-03  1.06e-02  7.92e-03]\n",
      "ens_AM4std_lw_cs_LiH4W256Relu_EY Finished: run 2!\n",
      "All runs finished. Increase <run_num> if you need to continue to train the model.\n"
     ]
    }
   ],
   "source": [
    "import numpy as np\n",
    "import torch\n",
    "from torch import nn  \n",
    "import time \n",
    "import os  \n",
    "\n",
    "######################################################\n",
    "# common functions to split the training and test data\n",
    "# \n",
    "from NNRTMC_utils import NNRTMC_NN_lw, split_train_test_sample, \\\n",
    "draw_batches, data_std_normalization_lw, print_key_results_lw, return_exp_dir\n",
    "torch.set_float32_matmul_precision('high')\n",
    "\n",
    "######################################################\n",
    "def custom_trainning(NNRTMC_solver, lr, loss, epochs, batch_size, de_save,\n",
    "                     input_torch, output_torch,\n",
    "                     indice_train, indice_test, \n",
    "                     eng_loss_frac, device, rng):\n",
    "    # update lr based on test loss\n",
    "    lr_scheduler = torch.optim.lr_scheduler.ReduceLROnPlateau(\n",
    "        NNRTMC_solver.optimizer, mode='min', factor=0.2, patience=50, threshold=1e-3, \n",
    "        threshold_mode='rel', cooldown=50, min_lr=0, eps=1e-08, verbose=True) \n",
    "    NNRTMC_solver.optimizer.param_groups[0]['lr'] = lr\n",
    "    ######################################################\n",
    "    # set training hyperparameter here\n",
    "    ######################################################\n",
    "    sta_time = time.time()\n",
    "    for t in range(epochs): \n",
    "        batch_indice_train = draw_batches(indice_train, batch_size, rng, device, replace=False)\n",
    "        lossv     = NNRTMC_solver.train(batch_indice_train, input_torch, output_torch, eng_loss_frac)\n",
    "        lossvtest = NNRTMC_solver.test_loss(indice_test, input_torch,  output_torch)\n",
    "        lr_scheduler.step(lossvtest[0]+lossvtest[1]) # update lr based on test loss\n",
    "        if t % de_save == 0:\n",
    "            used_time = time.time() - sta_time  \n",
    "            print( f\"Epoch {t+1:05d} |Train L: {lossv[0]:8.2e} {lossv[1]:8.2e} | Vali. L: {lossvtest[0]:7.1e} {lossvtest[1]:7.1e}  \"\n",
    "                  +f\"| ~ {used_time:3.0f}s | eta {int(used_time*((epochs-t)/de_save/60)) :3d} min\")\n",
    "            sta_time = time.time()\n",
    "            loss.append([[t+1]+lossv+lossvtest]) # append epochs, loss, test loss\n",
    "            # early stop \n",
    "            if NNRTMC_solver.optimizer.param_groups[0]['lr'] < 1e-7:\n",
    "                print(f\"Meet early stop criteria LR = {NNRTMC_solver.optimizer.param_groups[0]['lr']} < 1e-7\" )\n",
    "                print(\"End training\")\n",
    "                break\n",
    "    \n",
    "######################################################\n",
    "def custom_trainning_ens(NNRTMC_solver, lr, loss, epochs, batch_size, de_save,\n",
    "                         input_torch, output_torch,\n",
    "                         indice_train, indice_test, \n",
    "                         eng_loss_frac, device, rng):\n",
    "    for mi in range(len(NNRTMC_solver)): \n",
    "        print(f\"Model #{mi}\")\n",
    "        loss_mi = []\n",
    "        custom_trainning(NNRTMC_solver[mi], lr_sta, loss_mi, epochs, batch_size, de_save,\\\n",
    "                         input_torch, output_torch, \\\n",
    "                         ind_train, ind_test, eng_loss_frac, device, rng )\n",
    "        loss.append(loss_mi)\n",
    "        \n",
    "######################################################\n",
    "import xarray as xr  \n",
    "from get_data_lw_AM4_std import get_data_lw_AM4\n",
    "import argparse, sys\n",
    "\n",
    "if __name__ == '__main__': \n",
    "    torch.cuda.set_device(0) # select gpu_id, default 0 means the first GPU\n",
    "    device = f'cuda:{torch.cuda.current_device()}'\n",
    "    # set random generator\n",
    "    rng = np.random.default_rng(12345)\n",
    "    torch.manual_seed(12345)\n",
    "    # rng = np.random.default_rng()\n",
    "    \n",
    "    #####################################################\n",
    "    # set exp name and runs \n",
    "    # read sky_cond and eng_loss from terminal command\n",
    "    # parser=argparse.ArgumentParser()\n",
    "    # parser.add_argument(\"--sky_cond\", help=\"sky condition: af, csaf\")\n",
    "    # parser.add_argument(\"--eng_loss\", help=\"minimize the energy loss: Y/N\")\n",
    "    # parser.add_argument(\"--ensemble_size\", help=\"ensemble_size of NN models\")\n",
    "    # args=parser.parse_args()\n",
    "    # sky_cond = args.sky_cond\n",
    "    # eng_loss = args.eng_loss \n",
    "    # ensemble_size = int(args.ensemble_size) \n",
    "    # ensemble_num = ensemble_size\n",
    "    sky_cond = 'cs'\n",
    "    # sky_cond = 'all'\n",
    "    eng_loss = 'Y'\n",
    "    # eng_loss = 'N'\n",
    "    ensemble_num = 2\n",
    "    \n",
    "    total_run_num  = 2\n",
    "    hidden_layer_width = 256 \n",
    "    \n",
    "    Exp_name = f'ens_AM4std_lw_{sky_cond}_LiH4W{hidden_layer_width}Relu_E{eng_loss}' \n",
    "    work_dir = '/tigress/cw55/work/2022_radi_nn/NN_AM4/work/'\n",
    "    epochs = 200\n",
    "    de_save = 50 \n",
    "    print(f'>>| EXP: {Exp_name} ')\n",
    "    print(f'>>| Ensemble size {ensemble_num} | total_run_num: {total_run_num} | epochs per run: {epochs} ')\n",
    "    \n",
    "    if eng_loss != 'Y':\n",
    "        eng_loss_frac = None\n",
    "    else:\n",
    "        if sky_cond == 'cs':\n",
    "            eng_loss_frac = 1e-4 # lower loss weight for cs?\n",
    "        else:\n",
    "            eng_loss_frac = 1e-4\n",
    "        \n",
    "    ######################################################\n",
    "    # create dir for first run or load restart file\n",
    "    run_num, exp_dir = return_exp_dir(work_dir, Exp_name)\n",
    "    # copy script to experiment dir for reference\n",
    "    try:\n",
    "        ossyscmd = f'cp {os.path.abspath(__file__)} {exp_dir}/train_script{run_num:02d}.py' \n",
    "        os.system(ossyscmd) \n",
    "    except: \n",
    "        print('copy trainscript failed')\n",
    "    model_state_dict = []\n",
    "    # get restart info\n",
    "    if run_num == 1:  \n",
    "        nor_para = None\n",
    "        for mi in range(ensemble_num):\n",
    "            model_state_dict.append(None)\n",
    "        lr_sta = 1e-3\n",
    "    else:   # load restart file\n",
    "        for mi in range(ensemble_num):\n",
    "            PATH_last =  exp_dir+f'/model{mi}_restart.{run_num-1:02d}.pth'\n",
    "            restart_data = torch.load(PATH_last)  # load exist results and restart training\n",
    "            print(f'restart from: {PATH_last}')\n",
    "            # read training dataset, nor_para, model parameteres\n",
    "            nor_para = restart_data['nor_para']\n",
    "            model_state_dict.append(restart_data['model_state_dict'])\n",
    "        lr_sta = 1e-4\n",
    "\n",
    "    ######################################################\n",
    "    # load data from AM4 runs\n",
    "    filelist = [f'/scratch/gpfs/cw55/AM4/work/CTL2000_train_y2000_stellarcpu_intelmpi_22_768PE/'+\n",
    "            f'HISTORY/20000101.atmos_8xdaily.tile{_}.nc' for _ in range(1,7)] \n",
    "    # input_array_ori, output_array_ori = \\\n",
    "    # get_data_lw_AM4(filelist, condition=sky_cond, month_sel = None, day_sel = [1,7])  \n",
    "    input_array_ori, output_array_ori = \\\n",
    "    get_data_lw_AM4(filelist, condition=sky_cond, month_sel = [1,4,7,11], day_sel = [1])  \n",
    "    \n",
    "    hybrid_p_sigma_para = xr.open_dataset('/tigress/cw55/data/NNRTMC_dataset/AM4_pk_bk_202207.nc')\n",
    "    A_k = hybrid_p_sigma_para.ak.values[None,:]\n",
    "    B_k = hybrid_p_sigma_para.bk.values[None,:]\n",
    "    \n",
    "    print(f\"Features| Input: {input_array_ori.shape[1]},  Output: {output_array_ori.shape[1]}\")\n",
    "    nor_para, input_array, output_array = \\\n",
    "    data_std_normalization_lw(input_array_ori, output_array_ori, nor_para)  \n",
    " \n",
    "\n",
    "    # divide the training and test data here\n",
    "    # this would be different if restart the training process (be careful!)\n",
    "    ind_train, ind_test = split_train_test_sample(output_array.shape[0], test_ratio=0.3, rng=rng) \n",
    "    \n",
    "    ######################################################\n",
    "    # move all data to GPU to accelerate training\n",
    "    input_torch  = torch.tensor(input_array,  dtype=torch.float32).to(device)\n",
    "    output_torch = torch.tensor(output_array, dtype=torch.float32).to(device) \n",
    "    \n",
    "    ######################################################\n",
    "    # initialize model\n",
    "    NNRTMC_solver = []\n",
    "    for mi in range(ensemble_num):\n",
    "        NNRTMC_solver.append(NNRTMC_NN_lw(device, nor_para, A_k, B_k, \n",
    "                             input_array.shape[1],output_array.shape[1],\n",
    "                             hidden_layer_width, model_state_dict[mi]))\n",
    "    # training \n",
    "    for i in range(run_num, total_run_num+1): \n",
    "        loss = []\n",
    "        batch_size = max(8000, 8000*i**2)\n",
    "        print(f'Train info >> run: {i} lr_sta: {lr_sta:7.1e}, batch size: {batch_size}')\n",
    "        custom_trainning_ens(NNRTMC_solver, lr_sta, loss, epochs, batch_size, de_save,\\\n",
    "                             input_torch, output_torch, \\\n",
    "                             ind_train, ind_test, eng_loss_frac, device, rng )\n",
    "        ######################################################\n",
    "        # save model state dict and data normalization info\n",
    "        data_info = filelist\n",
    "        for mi in range(len(NNRTMC_solver)):\n",
    "            loss_array = np.array(loss[mi]).squeeze().T  \n",
    "            PATH =  exp_dir+f'/model{mi}_restart.{i:02d}.pth'\n",
    "            NNRTMC_solver[mi].save_model_restart(PATH, loss_array, data_info, nor_para)\n",
    "            print(f'Model #{mi} is saved at: '+PATH)        \n",
    "            print_key_results_lw(NNRTMC_solver[mi].predict(input_torch[ind_test,:]), \n",
    "                                output_array[ind_test,:], \n",
    "                                nor_para)\n",
    "        lr_sta = 1e-4\n",
    "        print(f'{Exp_name} Finished: run {i}!')  \n",
    "        \n",
    "    print('All runs finished. Increase <run_num> if you need to continue to train the model.')\n",
    "\n",
    "    # # move slurm log to work dir\n",
    "    # job_id = int(os.environ[\"SLURM_JOB_ID\"])\n",
    "    # ossyscmd = f'cp slurm-{job_id}.out {exp_dir}/' \n",
    "    # print(ossyscmd)\n",
    "    # os.system(ossyscmd) \n"
   ]
  },
  {
   "cell_type": "code",
   "execution_count": null,
   "id": "b40b84a1-0ef1-48b0-a18d-33f5050be3bc",
   "metadata": {},
   "outputs": [],
   "source": []
  },
  {
   "cell_type": "code",
   "execution_count": 2,
   "id": "673db8d1-3704-4fe3-90ca-e6b699015f39",
   "metadata": {
    "execution": {
     "iopub.execute_input": "2023-05-19T01:08:43.724177Z",
     "iopub.status.busy": "2023-05-19T01:08:43.723733Z",
     "iopub.status.idle": "2023-05-19T01:08:43.729596Z",
     "shell.execute_reply": "2023-05-19T01:08:43.729246Z",
     "shell.execute_reply.started": "2023-05-19T01:08:43.724158Z"
    },
    "tags": []
   },
   "outputs": [
    {
     "data": {
      "text/plain": [
       "2"
      ]
     },
     "execution_count": 2,
     "metadata": {},
     "output_type": "execute_result"
    }
   ],
   "source": [
    "len(loss)"
   ]
  },
  {
   "cell_type": "code",
   "execution_count": 3,
   "id": "d3953be0-a1d8-4c06-b867-eaf0db32db75",
   "metadata": {
    "execution": {
     "iopub.execute_input": "2023-05-19T01:08:43.730401Z",
     "iopub.status.busy": "2023-05-19T01:08:43.730134Z",
     "iopub.status.idle": "2023-05-19T01:08:43.733310Z",
     "shell.execute_reply": "2023-05-19T01:08:43.732929Z",
     "shell.execute_reply.started": "2023-05-19T01:08:43.730388Z"
    },
    "tags": []
   },
   "outputs": [
    {
     "data": {
      "text/plain": [
       "[[[1,\n",
       "   0.001087110722437501,\n",
       "   0.8169963955879211,\n",
       "   0.003229117952287197,\n",
       "   4.732565879821777]],\n",
       " [[51,\n",
       "   0.000844001944642514,\n",
       "   0.3934892416000366,\n",
       "   0.003095857799053192,\n",
       "   3.592905044555664]],\n",
       " [[101,\n",
       "   0.0009590978152118623,\n",
       "   1.1248282194137573,\n",
       "   0.003022549906745553,\n",
       "   3.82220196723938]],\n",
       " [[151,\n",
       "   0.0006976587465032935,\n",
       "   0.35736292600631714,\n",
       "   0.0028451145626604557,\n",
       "   3.622267723083496]]]"
      ]
     },
     "execution_count": 3,
     "metadata": {},
     "output_type": "execute_result"
    }
   ],
   "source": [
    "loss[1]"
   ]
  },
  {
   "cell_type": "code",
   "execution_count": 4,
   "id": "f618aeae-1758-49c3-8fd5-1fc929ee3611",
   "metadata": {
    "execution": {
     "iopub.execute_input": "2023-05-19T01:08:43.734111Z",
     "iopub.status.busy": "2023-05-19T01:08:43.733756Z",
     "iopub.status.idle": "2023-05-19T01:08:43.736643Z",
     "shell.execute_reply": "2023-05-19T01:08:43.736275Z",
     "shell.execute_reply.started": "2023-05-19T01:08:43.734095Z"
    },
    "tags": []
   },
   "outputs": [
    {
     "data": {
      "text/plain": [
       "(5, 4)"
      ]
     },
     "execution_count": 4,
     "metadata": {},
     "output_type": "execute_result"
    }
   ],
   "source": [
    "loss_array.shape"
   ]
  },
  {
   "cell_type": "code",
   "execution_count": 5,
   "id": "127a013e-f579-4876-a1fc-ddc94d780781",
   "metadata": {
    "execution": {
     "iopub.execute_input": "2023-05-19T01:08:43.737836Z",
     "iopub.status.busy": "2023-05-19T01:08:43.737586Z",
     "iopub.status.idle": "2023-05-19T01:08:43.740434Z",
     "shell.execute_reply": "2023-05-19T01:08:43.740057Z",
     "shell.execute_reply.started": "2023-05-19T01:08:43.737822Z"
    },
    "tags": []
   },
   "outputs": [
    {
     "data": {
      "text/plain": [
       "('/tigress/cw55/work/2022_radi_nn/NN_AM4/work/',\n",
       " 'ens_AM4std_lw_cs_LiH4W256Relu_EY')"
      ]
     },
     "execution_count": 5,
     "metadata": {},
     "output_type": "execute_result"
    }
   ],
   "source": [
    "work_dir,Exp_name"
   ]
  },
  {
   "cell_type": "code",
   "execution_count": 15,
   "id": "14025229-1dc6-4203-8559-38a33e9a6a20",
   "metadata": {
    "execution": {
     "iopub.execute_input": "2023-05-19T01:19:33.060679Z",
     "iopub.status.busy": "2023-05-19T01:19:33.060471Z",
     "iopub.status.idle": "2023-05-19T01:19:33.205001Z",
     "shell.execute_reply": "2023-05-19T01:19:33.204480Z",
     "shell.execute_reply.started": "2023-05-19T01:19:33.060663Z"
    },
    "tags": []
   },
   "outputs": [
    {
     "name": "stdout",
     "output_type": "stream",
     "text": [
      "zsh:1: no matches found: /tigress/cw55/work/2022_radi_nn/NN_AM4/work/ens_AM4std_lw*\n"
     ]
    }
   ],
   "source": [
    "ls /tigress/cw55/work/2022_radi_nn/NN_AM4/work/ens_AM4std_lw*"
   ]
  },
  {
   "cell_type": "code",
   "execution_count": 14,
   "id": "e5e94c98-9a22-42c7-850d-e4d752cd823a",
   "metadata": {
    "execution": {
     "iopub.execute_input": "2023-05-19T01:19:32.056669Z",
     "iopub.status.busy": "2023-05-19T01:19:32.056460Z",
     "iopub.status.idle": "2023-05-19T01:19:32.205528Z",
     "shell.execute_reply": "2023-05-19T01:19:32.204929Z",
     "shell.execute_reply.started": "2023-05-19T01:19:32.056653Z"
    },
    "tags": []
   },
   "outputs": [],
   "source": [
    "rm -rf /tigress/cw55/work/2022_radi_nn/NN_AM4/work/ens_AM4std_lw*"
   ]
  },
  {
   "cell_type": "code",
   "execution_count": null,
   "id": "ba672f57-1163-49ac-ac3b-03877fe263b4",
   "metadata": {},
   "outputs": [],
   "source": []
  }
 ],
 "metadata": {
  "kernelspec": {
   "display_name": "pytorch20",
   "language": "python",
   "name": "pytorch20"
  },
  "language_info": {
   "codemirror_mode": {
    "name": "ipython",
    "version": 3
   },
   "file_extension": ".py",
   "mimetype": "text/x-python",
   "name": "python",
   "nbconvert_exporter": "python",
   "pygments_lexer": "ipython3",
   "version": "3.10.10"
  },
  "widgets": {
   "application/vnd.jupyter.widget-state+json": {
    "state": {},
    "version_major": 2,
    "version_minor": 0
   }
  }
 },
 "nbformat": 4,
 "nbformat_minor": 5
}
